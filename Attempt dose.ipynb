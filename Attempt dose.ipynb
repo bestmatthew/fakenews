{
 "cells": [
  {
   "cell_type": "code",
   "execution_count": 54,
   "id": "medium-mozambique",
   "metadata": {},
   "outputs": [],
   "source": [
    "#conda install pandas  #why in the fuck I just lost pandas, seaborn, etc blows my mind#\n"
   ]
  },
  {
   "cell_type": "code",
   "execution_count": 1,
   "id": "silver-curve",
   "metadata": {},
   "outputs": [],
   "source": [
    "import pandas as pd\n",
    "import numpy as np\n",
    "import seaborn as sns\n",
    "import matplotlib.pyplot as plt\n",
    "\n",
    "\n",
    "from nltk.corpus import stopwords\n",
    "from wordcloud import WordCloud\n",
    "\n",
    "\n"
   ]
  },
  {
   "cell_type": "code",
   "execution_count": 2,
   "id": "charming-morocco",
   "metadata": {},
   "outputs": [],
   "source": [
    "data = pd.read_csv('data_fakenews/train.csv')"
   ]
  },
  {
   "cell_type": "code",
   "execution_count": 3,
   "id": "instant-partnership",
   "metadata": {},
   "outputs": [],
   "source": [
    "#data.isnull().any()"
   ]
  },
  {
   "cell_type": "code",
   "execution_count": 4,
   "id": "korean-summary",
   "metadata": {},
   "outputs": [],
   "source": [
    "preprocess = data.drop(data[data.text.apply(lambda x: type(x) == float)].index)"
   ]
  },
  {
   "cell_type": "code",
   "execution_count": 5,
   "id": "abandoned-girlfriend",
   "metadata": {},
   "outputs": [],
   "source": [
    "#preprocess"
   ]
  },
  {
   "cell_type": "code",
   "execution_count": 6,
   "id": "classified-kingston",
   "metadata": {},
   "outputs": [],
   "source": [
    "stack = pd.read_csv('data_fakenews/test.csv')"
   ]
  },
  {
   "cell_type": "code",
   "execution_count": 7,
   "id": "prospective-trauma",
   "metadata": {},
   "outputs": [],
   "source": [
    "concat = pd.read_csv('data_fakenews/submit.csv')"
   ]
  },
  {
   "cell_type": "code",
   "execution_count": 8,
   "id": "brutal-tragedy",
   "metadata": {},
   "outputs": [],
   "source": [
    "#concat.isnull().any()"
   ]
  },
  {
   "cell_type": "code",
   "execution_count": 9,
   "id": "royal-distance",
   "metadata": {},
   "outputs": [],
   "source": [
    "#len(stack)"
   ]
  },
  {
   "cell_type": "code",
   "execution_count": 10,
   "id": "moving-blackjack",
   "metadata": {},
   "outputs": [],
   "source": [
    "#len(concat)"
   ]
  },
  {
   "cell_type": "code",
   "execution_count": 11,
   "id": "danish-liberal",
   "metadata": {},
   "outputs": [],
   "source": [
    "batch2 = pd.concat([stack, concat], axis=1)"
   ]
  },
  {
   "cell_type": "code",
   "execution_count": 12,
   "id": "banner-reunion",
   "metadata": {},
   "outputs": [],
   "source": [
    "#batch2.isnull().any()"
   ]
  },
  {
   "cell_type": "code",
   "execution_count": 14,
   "id": "dutch-parliament",
   "metadata": {},
   "outputs": [],
   "source": [
    "#thirdversion = pd.concat([preprocess, batch2], ignore_index=True)"
   ]
  },
  {
   "cell_type": "code",
   "execution_count": 15,
   "id": "signed-panama",
   "metadata": {},
   "outputs": [],
   "source": [
    "#third1 = df1.loc[~df1.index.duplicated(keep='first')]"
   ]
  },
  {
   "cell_type": "code",
   "execution_count": 13,
   "id": "honest-asian",
   "metadata": {},
   "outputs": [],
   "source": [
    "preprocess2 = batch2.drop(batch2[batch2.text.apply(lambda x: type(x) == float)].index)"
   ]
  },
  {
   "cell_type": "code",
   "execution_count": 14,
   "id": "imperial-subsection",
   "metadata": {},
   "outputs": [
    {
     "data": {
      "text/plain": [
       "id        False\n",
       "title      True\n",
       "author     True\n",
       "text      False\n",
       "id        False\n",
       "label     False\n",
       "dtype: bool"
      ]
     },
     "execution_count": 14,
     "metadata": {},
     "output_type": "execute_result"
    }
   ],
   "source": [
    "preprocess2.isnull().any()"
   ]
  },
  {
   "cell_type": "code",
   "execution_count": 15,
   "id": "studied-phase",
   "metadata": {},
   "outputs": [],
   "source": [
    "notsurea = preprocess.reset_index()\n",
    "notsureb = preprocess2.reset_index()"
   ]
  },
  {
   "cell_type": "code",
   "execution_count": 16,
   "id": "widespread-bread",
   "metadata": {},
   "outputs": [],
   "source": [
    "firsthalf = notsurea[['text', 'label']]"
   ]
  },
  {
   "cell_type": "code",
   "execution_count": 17,
   "id": "fifteen-roads",
   "metadata": {},
   "outputs": [
    {
     "data": {
      "text/plain": [
       "text     False\n",
       "label    False\n",
       "dtype: bool"
      ]
     },
     "execution_count": 17,
     "metadata": {},
     "output_type": "execute_result"
    }
   ],
   "source": [
    "firsthalf.isnull().any()"
   ]
  },
  {
   "cell_type": "code",
   "execution_count": 18,
   "id": "guilty-berkeley",
   "metadata": {},
   "outputs": [],
   "source": [
    "secondhalf = notsureb[['text', 'label']]"
   ]
  },
  {
   "cell_type": "code",
   "execution_count": 19,
   "id": "marked-jerusalem",
   "metadata": {},
   "outputs": [
    {
     "data": {
      "text/plain": [
       "text     False\n",
       "label    False\n",
       "dtype: bool"
      ]
     },
     "execution_count": 19,
     "metadata": {},
     "output_type": "execute_result"
    }
   ],
   "source": [
    "secondhalf.isnull().any()"
   ]
  },
  {
   "cell_type": "code",
   "execution_count": 20,
   "id": "amber-millennium",
   "metadata": {},
   "outputs": [],
   "source": [
    "#fuck it"
   ]
  },
  {
   "cell_type": "code",
   "execution_count": 21,
   "id": "interim-engine",
   "metadata": {},
   "outputs": [],
   "source": [
    "#type(firsthalf)"
   ]
  },
  {
   "cell_type": "code",
   "execution_count": 22,
   "id": "behavioral-radar",
   "metadata": {},
   "outputs": [],
   "source": [
    "#type(secondhalf) ##DF##"
   ]
  },
  {
   "cell_type": "code",
   "execution_count": 23,
   "id": "civilian-spelling",
   "metadata": {},
   "outputs": [],
   "source": [
    "articles = pd.concat([firsthalf,secondhalf],ignore_index=True)"
   ]
  },
  {
   "cell_type": "code",
   "execution_count": 24,
   "id": "personal-genetics",
   "metadata": {},
   "outputs": [
    {
     "data": {
      "text/html": [
       "<div>\n",
       "<style scoped>\n",
       "    .dataframe tbody tr th:only-of-type {\n",
       "        vertical-align: middle;\n",
       "    }\n",
       "\n",
       "    .dataframe tbody tr th {\n",
       "        vertical-align: top;\n",
       "    }\n",
       "\n",
       "    .dataframe thead th {\n",
       "        text-align: right;\n",
       "    }\n",
       "</style>\n",
       "<table border=\"1\" class=\"dataframe\">\n",
       "  <thead>\n",
       "    <tr style=\"text-align: right;\">\n",
       "      <th></th>\n",
       "      <th>text</th>\n",
       "      <th>label</th>\n",
       "    </tr>\n",
       "  </thead>\n",
       "  <tbody>\n",
       "    <tr>\n",
       "      <th>0</th>\n",
       "      <td>House Dem Aide: We Didn’t Even See Comey’s Let...</td>\n",
       "      <td>1</td>\n",
       "    </tr>\n",
       "    <tr>\n",
       "      <th>1</th>\n",
       "      <td>Ever get the feeling your life circles the rou...</td>\n",
       "      <td>0</td>\n",
       "    </tr>\n",
       "    <tr>\n",
       "      <th>2</th>\n",
       "      <td>Why the Truth Might Get You Fired October 29, ...</td>\n",
       "      <td>1</td>\n",
       "    </tr>\n",
       "    <tr>\n",
       "      <th>3</th>\n",
       "      <td>Videos 15 Civilians Killed In Single US Airstr...</td>\n",
       "      <td>1</td>\n",
       "    </tr>\n",
       "    <tr>\n",
       "      <th>4</th>\n",
       "      <td>Print \\nAn Iranian woman has been sentenced to...</td>\n",
       "      <td>1</td>\n",
       "    </tr>\n",
       "    <tr>\n",
       "      <th>...</th>\n",
       "      <td>...</td>\n",
       "      <td>...</td>\n",
       "    </tr>\n",
       "    <tr>\n",
       "      <th>25949</th>\n",
       "      <td>Of all the dysfunctions that plague the world’...</td>\n",
       "      <td>0</td>\n",
       "    </tr>\n",
       "    <tr>\n",
       "      <th>25950</th>\n",
       "      <td>WASHINGTON  —   Gov. John Kasich of Ohio on Tu...</td>\n",
       "      <td>1</td>\n",
       "    </tr>\n",
       "    <tr>\n",
       "      <th>25951</th>\n",
       "      <td>Good morning. (Want to get California Today by...</td>\n",
       "      <td>0</td>\n",
       "    </tr>\n",
       "    <tr>\n",
       "      <th>25952</th>\n",
       "      <td>« Previous - Next » 300 US Marines To Be Deplo...</td>\n",
       "      <td>1</td>\n",
       "    </tr>\n",
       "    <tr>\n",
       "      <th>25953</th>\n",
       "      <td>Perhaps you’ve seen the new TV series whose pi...</td>\n",
       "      <td>0</td>\n",
       "    </tr>\n",
       "  </tbody>\n",
       "</table>\n",
       "<p>25954 rows × 2 columns</p>\n",
       "</div>"
      ],
      "text/plain": [
       "                                                    text  label\n",
       "0      House Dem Aide: We Didn’t Even See Comey’s Let...      1\n",
       "1      Ever get the feeling your life circles the rou...      0\n",
       "2      Why the Truth Might Get You Fired October 29, ...      1\n",
       "3      Videos 15 Civilians Killed In Single US Airstr...      1\n",
       "4      Print \\nAn Iranian woman has been sentenced to...      1\n",
       "...                                                  ...    ...\n",
       "25949  Of all the dysfunctions that plague the world’...      0\n",
       "25950  WASHINGTON  —   Gov. John Kasich of Ohio on Tu...      1\n",
       "25951  Good morning. (Want to get California Today by...      0\n",
       "25952  « Previous - Next » 300 US Marines To Be Deplo...      1\n",
       "25953  Perhaps you’ve seen the new TV series whose pi...      0\n",
       "\n",
       "[25954 rows x 2 columns]"
      ]
     },
     "execution_count": 24,
     "metadata": {},
     "output_type": "execute_result"
    }
   ],
   "source": [
    "articles"
   ]
  },
  {
   "cell_type": "code",
   "execution_count": 25,
   "id": "sealed-croatia",
   "metadata": {},
   "outputs": [],
   "source": [
    "#25954 rows × 2 columns"
   ]
  },
  {
   "cell_type": "code",
   "execution_count": 26,
   "id": "vertical-laundry",
   "metadata": {},
   "outputs": [],
   "source": [
    "# from nltk.corpus import stopwords\n",
    "# from wordcloud import WordCloud\n",
    "\n",
    "# wordcloud = WordCloud(width = 800, height = 800, \n",
    "#                 background_color ='white', \n",
    "#                 stopwords = stopwords.words('english'), \n",
    "#                 min_font_size = 10).generate(\" \".join(articles[articles['label'] == 0].text)) \n",
    "  \n",
    "# # plot the word cloud for fake news data                      \n",
    "# plt.figure(figsize = (8, 8), facecolor = None) \n",
    "# plt.imshow(wordcloud) \n",
    "# plt.axis(\"off\") \n",
    "# plt.tight_layout(pad = 0) \n",
    "# plt.show() "
   ]
  },
  {
   "cell_type": "code",
   "execution_count": 27,
   "id": "residential-sleeve",
   "metadata": {},
   "outputs": [],
   "source": [
    "# wordcloud2 = WordCloud(width = 800, height = 800, \n",
    "#                 background_color ='white', \n",
    "#                 stopwords = stopwords.words('english'), \n",
    "#                 min_font_size = 10).generate(\" \".join(articles[articles['label'] == 1].text)) \n",
    "  \n",
    "# # plot the WordCloud image for genuine news data                     \n",
    "# plt.figure(figsize = (8, 8), facecolor = None) \n",
    "# plt.imshow(wordcloud2) \n",
    "# plt.axis(\"off\") \n",
    "# plt.tight_layout(pad = 0) \n",
    "# plt.show()"
   ]
  },
  {
   "cell_type": "code",
   "execution_count": 28,
   "id": "alike-terrain",
   "metadata": {},
   "outputs": [],
   "source": [
    "import sklearn\n",
    "from sklearn.model_selection import train_test_split"
   ]
  },
  {
   "cell_type": "code",
   "execution_count": 33,
   "id": "sonic-sport",
   "metadata": {},
   "outputs": [],
   "source": [
    "X_train, X_test, y_train, y_test = train_test_split(articles['text'],articles['label'], test_size=0.2)"
   ]
  },
  {
   "cell_type": "code",
   "execution_count": 34,
   "id": "unique-runner",
   "metadata": {},
   "outputs": [],
   "source": [
    "##MULTINOMIAL NAIEVE BAYES##"
   ]
  },
  {
   "cell_type": "code",
   "execution_count": 59,
   "id": "increasing-arrangement",
   "metadata": {},
   "outputs": [
    {
     "name": "stdout",
     "output_type": "stream",
     "text": [
      "accuracy:   76.787\n"
     ]
    },
    {
     "data": {
      "image/png": "[encoded data removed]",
      "text/plain": [
       "<Figure size 432x288 with 2 Axes>"
      ]
     },
     "metadata": {
      "needs_background": "light"
     },
     "output_type": "display_data"
    }
   ],
   "source": [
    "#Multinomial NB\n",
    "from sklearn.feature_extraction.text import TfidfTransformer\n",
    "from sklearn.feature_extraction.text import CountVectorizer\n",
    "from sklearn.feature_extraction.text import TfidfVectorizer\n",
    "from sklearn.pipeline import Pipeline\n",
    "from sklearn.naive_bayes import MultinomialNB\n",
    "from sklearn.metrics import accuracy_score\n",
    "import sklearn.metrics as metrics                                                 \n",
    "from mlxtend.plotting import plot_confusion_matrix\n",
    "from sklearn.metrics import confusion_matrix\n",
    "\n",
    "pipe = Pipeline([\n",
    "    ('vect', CountVectorizer()),\n",
    "    ('tfidf', TfidfTransformer()),\n",
    "    ('clf', MultinomialNB())\n",
    "])\n",
    "\n",
    "model = pipe.fit(X_train, y_train)\n",
    "prediction = model.predict(X_test)\n",
    "\n",
    "score = metrics.accuracy_score(y_test, prediction)\n",
    "print(\"accuracy:   %0.3f\" % (score*100))\n",
    "cm = metrics.confusion_matrix(y_test, prediction, labels=[0,1])\n",
    "\n",
    "\n",
    "\n",
    "fig, ax = plot_confusion_matrix(conf_mat=confusion_matrix(y_test, prediction),\n",
    "                                show_absolute=True,\n",
    "                                show_normed=True,\n",
    "                                colorbar=True)\n",
    "plt.title(\"Multinomial Naive Bayes\")\n",
    "plt.show()"
   ]
  },
  {
   "cell_type": "code",
   "execution_count": 44,
   "id": "5d53c8ef",
   "metadata": {},
   "outputs": [],
   "source": [
    "fakestory = '''Using his speech at the annual Human Rights Campaign dinner as an opportunity to air grievances, former Vice President Joe Biden railed against conservative segments of American society.\n",
    "\n",
    "“Despite losing in the courts and in the court of public opinion, these forces of intolerance remain determined to undermine and roll back the progress you all have made,” Biden said, alluding in particular to same-sex marriage and other LGBT causes. “This time they—not you—have an ally in the White House. They’re a small percentage of the American people, virulent people. Some of them are the dregs of society.”\n",
    "\n",
    "Given the backlash Hillary Clinton faced for labeling Trump supporters “deplorables,” it is unclear why Biden would go so far to replicate her mistake. This seems to point to a potential presidential candidate who is either unhinged or cynically attempting to exploit divisions among the American people. Biden is no friend of the Second Amendment, and freedom-loving Americans should be cautious about the kinds of moves he is making.'''\n",
    "\n",
    "\n",
    "\n",
    "anotherfake = '''House Democrats voted Thursday to fast-track an electronic medical records system that would serve illegal immigrants, something America’s veterans have been seeking for years.\n",
    "The House passed the bill on a largely party line vote of 230-184, American Military News reported.\n",
    "Only two Republican congressmen supported the bill — Brian Fitzpatrick of Pennsylvania and Fred Upton of Michigan.\n",
    "\n",
    "The proposal has yet to be considered by the Republican-controlled Senate.\n",
    "The Democratic proposal would require the Department of Homeland Security and U.S. Customs and Border Patrol to create a universally connected Electronic Health Records system which “can be accessed by all departmental components operating along the borders of the United States,” according to the bill.\n",
    "\n",
    "Part of that system’s job will be to provide information to Congress on the health of migrants who enter the country illegally, according to The Hill.\n",
    "The bill gives the DHS 90 days after the bill receives final approval to get the job done.\n",
    "\n",
    "In contrast, the Veterans Administration has been working for years to implement a similar EHR system for veterans.\n",
    "According to American Military News, veterans do have access to EHRs at individual care providers and facilities, however, their records are not universally connected. That means their records do not to follow them between community care providers, the VA and the DoD and are unable to be accessed electronically by other providers in the agency.\n",
    "\n",
    "“The modernized system will allow VA to have patient data shared seamlessly between VA and DoD,” a VA news release states.\n",
    "“As DHS works to improve its medical screening of children and migrants at the border to ensure there is a minimum standard of care, the need for proper record keeping on those screenings will only increase,” she said.\n",
    "Underwood said that the bill was based on her experiences touring America’s southern Border.\n",
    "\n",
    "“When I was at the border I saw busy, overworked Border Patrol officials having to keep health records on paper. I also saw how these records don’t follow migrants between facilities and transfers of custody,” she said.\n",
    "But critics wondered how adding more responsibilities to overworked Border Patrol officials would fix anything.\n",
    "\n",
    "“I oppose this bill because it is poorly conceived, erroneously drafted and extremely risky,” Republican Rep. Jim Banks of Indiana said.\n",
    "“This bill would require the Border Patrol to divert resources from its core missions and create a new medical screening for those who illegally cross and enter the country between ports of entry.”\n",
    "Republican Rep. Mark Walker of North Carolina said in a statement that the Democratic bill was wrong on multiple levels.\n",
    "“Earlier this week, I said impeachment was the House Democrats only agenda. I was mistaken. They just passed legislation that will give illegal immigrants better health care records than our veterans and servicemembers. More and more they are making their priorities clear and it’s absolutely shameful,” he said.\n",
    "\n",
    "Walker noted that Democrats want illegal immigrants to have universal electronic health records faster than they are available for veterans.\n",
    "“The Veterans Administration (VA) will not have similar electronic health records systems in place for nine years and the Department of Defense (DOD) will not have those systems for another five years,” he said.\n",
    "Tennessee Republican Rep. Tim Burchett said in a Twitter video that Republicans proposed an amendment to the Democratic bill to ensure veterans receive the same treatment as illegal immigrants under the bill.\n",
    "Democrats voted down that amendment, Burchett said.\n",
    "\n",
    "The amendment referenced by Burchett proposed the establishment date of the EHR system for immigrants be pushed back to Sept. 30, 2027 — 10 days after veteran’s interoperable EHR system would be fully operational within the VA.\n",
    "Republican Rep. Mark Green of Tennessee presented the motion to recommit H.R. 3525 with his amendment seeking to “ensure that our veterans get this service first.”\n",
    "\n",
    "\n",
    "Section 3 of Bill H.R. 3525 states that within 90 days of its enactment, DHS would “establish within the Department an electronic health record system that can be accessed by all departmental components operating along the borders of the United States for individuals in the custody of such components.”\n",
    "Meanwhile, an EHR system accessible between both the VA and the DoD is set to be implemented in some VA hospitals only as soon as 2020, and the full modernization effort, which officially began last May, was set to be rolled out over a decade, the Military Times reported.\n",
    "But there are other problems with the bill, Walker said.\n",
    "“Additionally, the new requirements are not funded, so DHS would be forced to take funds from other agency efforts including border security, combating terrorism, stopping drug and human trafficking, and natural disaster response,” he said.\n",
    "\n",
    "Republican Rep. Phil Roe of Tennessee agreed.\n",
    "“If we cannot deliver a modern medical record for the men and women who put their lives on the line for us sooner than that, it is impossible to think that we could or should deliver one …  for those who knowingly enter our country illegally,” Roe said in a statement.\n",
    "“We should not treat anyone, particularly someone who breaks our laws, better than we treat our heroes. DHS staff along the border are doing the best they can to keep up with screening illegal border crossers and this bill will make it harder for them to do their job without actually helping anyone,” he said.\n",
    "'''"
   ]
  },
  {
   "cell_type": "code",
   "execution_count": 45,
   "id": "51fc3070",
   "metadata": {},
   "outputs": [
    {
     "data": {
      "text/plain": [
       "'House Democrats voted Thursday to fast-track an electronic medical records system that would serve illegal immigrants, something America’s veterans have been seeking for years.\\nThe House passed the bill on a largely party line vote of 230-184, American Military News reported.\\nOnly two Republican congressmen supported the bill — Brian Fitzpatrick of Pennsylvania and Fred Upton of Michigan.\\n\\nThe proposal has yet to be considered by the Republican-controlled Senate.\\nThe Democratic proposal would require the Department of Homeland Security and U.S. Customs and Border Patrol to create a universally connected Electronic Health Records system which “can be accessed by all departmental components operating along the borders of the United States,” according to the bill.\\n\\nPart of that system’s job will be to provide information to Congress on the health of migrants who enter the country illegally, according to The Hill.\\nThe bill gives the DHS 90 days after the bill receives final approval to get the job done.\\n\\nIn contrast, the Veterans Administration has been working for years to implement a similar EHR system for veterans.\\nAccording to American Military News, veterans do have access to EHRs at individual care providers and facilities, however, their records are not universally connected. That means their records do not to follow them between community care providers, the VA and the DoD and are unable to be accessed electronically by other providers in the agency.\\n\\n“The modernized system will allow VA to have patient data shared seamlessly between VA and DoD,” a VA news release states.\\n“As DHS works to improve its medical screening of children and migrants at the border to ensure there is a minimum standard of care, the need for proper record keeping on those screenings will only increase,” she said.\\nUnderwood said that the bill was based on her experiences touring America’s southern Border.\\n\\n“When I was at the border I saw busy, overworked Border Patrol officials having to keep health records on paper. I also saw how these records don’t follow migrants between facilities and transfers of custody,” she said.\\nBut critics wondered how adding more responsibilities to overworked Border Patrol officials would fix anything.\\n\\n“I oppose this bill because it is poorly conceived, erroneously drafted and extremely risky,” Republican Rep. Jim Banks of Indiana said.\\n“This bill would require the Border Patrol to divert resources from its core missions and create a new medical screening for those who illegally cross and enter the country between ports of entry.”\\nRepublican Rep. Mark Walker of North Carolina said in a statement that the Democratic bill was wrong on multiple levels.\\n“Earlier this week, I said impeachment was the House Democrats only agenda. I was mistaken. They just passed legislation that will give illegal immigrants better health care records than our veterans and servicemembers. More and more they are making their priorities clear and it’s absolutely shameful,” he said.\\n\\nWalker noted that Democrats want illegal immigrants to have universal electronic health records faster than they are available for veterans.\\n“The Veterans Administration (VA) will not have similar electronic health records systems in place for nine years and the Department of Defense (DOD) will not have those systems for another five years,” he said.\\nTennessee Republican Rep. Tim Burchett said in a Twitter video that Republicans proposed an amendment to the Democratic bill to ensure veterans receive the same treatment as illegal immigrants under the bill.\\nDemocrats voted down that amendment, Burchett said.\\n\\nThe amendment referenced by Burchett proposed the establishment date of the EHR system for immigrants be pushed back to Sept. 30, 2027 — 10 days after veteran’s interoperable EHR system would be fully operational within the VA.\\nRepublican Rep. Mark Green of Tennessee presented the motion to recommit H.R. 3525 with his amendment seeking to “ensure that our veterans get this service first.”\\n\\n\\nSection 3 of Bill H.R. 3525 states that within 90 days of its enactment, DHS would “establish within the Department an electronic health record system that can be accessed by all departmental components operating along the borders of the United States for individuals in the custody of such components.”\\nMeanwhile, an EHR system accessible between both the VA and the DoD is set to be implemented in some VA hospitals only as soon as 2020, and the full modernization effort, which officially began last May, was set to be rolled out over a decade, the Military Times reported.\\nBut there are other problems with the bill, Walker said.\\n“Additionally, the new requirements are not funded, so DHS would be forced to take funds from other agency efforts including border security, combating terrorism, stopping drug and human trafficking, and natural disaster response,” he said.\\n\\nRepublican Rep. Phil Roe of Tennessee agreed.\\n“If we cannot deliver a modern medical record for the men and women who put their lives on the line for us sooner than that, it is impossible to think that we could or should deliver one … \\xa0for those who knowingly enter our country illegally,” Roe said in a statement.\\n“We should not treat anyone, particularly someone who breaks our laws, better than we treat our heroes. DHS staff along the border are doing the best they can to keep up with screening illegal border crossers and this bill will make it harder for them to do their job without actually helping anyone,” he said.\\n'"
      ]
     },
     "execution_count": 45,
     "metadata": {},
     "output_type": "execute_result"
    }
   ],
   "source": [
    "faketest = pd.Series(fakestory)\n",
    "faketest.iloc[0]\n",
    "fake2 = pd.Series(anotherfake)\n",
    "fake2.iloc[0]"
   ]
  },
  {
   "cell_type": "code",
   "execution_count": 43,
   "id": "17e3244b",
   "metadata": {},
   "outputs": [
    {
     "name": "stdout",
     "output_type": "stream",
     "text": [
      "[1]\n"
     ]
    }
   ],
   "source": [
    "##TRYING TO MAKE A PREDICTION ON A NEW DATA ((using same training data))\n",
    "\n",
    "#SVM\n",
    "from sklearn.svm import LinearSVC\n",
    "\n",
    "pipe = Pipeline([\n",
    "    ('vect', CountVectorizer()),\n",
    "    ('tfidf', TfidfTransformer()),\n",
    "    ('clf', LinearSVC())\n",
    "])\n",
    "\n",
    "model = pipe.fit(X_train, y_train)\n",
    "prediction = model.predict(faketest)\n",
    "\n",
    "print(prediction)\n",
    "\n",
    "##Fail"
   ]
  },
  {
   "cell_type": "code",
   "execution_count": 46,
   "id": "59df3f72",
   "metadata": {},
   "outputs": [
    {
     "name": "stdout",
     "output_type": "stream",
     "text": [
      "[0]\n"
     ]
    }
   ],
   "source": [
    "##TRYING TO MAKE A PREDICTION ON A NEW DATA ((using same training data))\n",
    "\n",
    "#SVM\n",
    "\n",
    "pipe = Pipeline([\n",
    "    ('vect', CountVectorizer()),\n",
    "    ('tfidf', TfidfTransformer()),\n",
    "    ('clf', LinearSVC())\n",
    "])\n",
    "\n",
    "model = pipe.fit(X_train, y_train)\n",
    "prediction = model.predict(fake2)\n",
    "\n",
    "print(prediction)\n",
    "\n",
    "##Huzzah!!"
   ]
  },
  {
   "cell_type": "code",
   "execution_count": 50,
   "id": "d8ce6ef3",
   "metadata": {},
   "outputs": [],
   "source": [
    "thirdfake = '''“Turnabout is fair play”, the old saying goes.The thing about old sayings, however, is that they’re old. Nobody in their right mind walks around shouting “23 Skidoo!” anymore.\n",
    "That’s way too many Skidoos for Matt Gaetz anyway.\n",
    "After season after season of trauma, with professional sports figures of color kneeling in protest during America’s pearly white people’s national anthem, now the fallout comes to pass.\n",
    "Last week, during a practice game between the Atlanta Falcons and a group of professional outhouse builders, starting tight end Joe Barron chose to kneel down in protest during the playing of “Lift Every Voice and Sing”, known colloquially as “The Black National Anthem.” It’s unknown why “Boyz In Tha Hood” was not chosen for the honor.\n",
    "The Caucasian was immediately labelled as a “racist” by onlookers, local news organizations, and his own teammates.  Barron explained that he was simply protesting white suffrage.\n",
    "“All of a sudden, black people are taking over too many things. Captain America. Hockey. There’s even that country music song with rapping in it.  That is wrong.  We want America the way it used to be back when it was great. With separate water fountains and restaurants. Does that make me racist? If it does, then how come I got a boner when Halle Berry was topless in that ‘Swordfish’ movie?”\n",
    "Barron’s supporters, overwhelmingly older Trump voting tard weebles, point out that it’s not offensive because people didn’t fight and sacrifice their lives for the song.  Which, they didn’t do for the other one, either. Who would die for a song? Oh yeah, half of Milli Vanilli.\n",
    "\n",
    "Phil Collins told him over and over. “Milli. Milli, don’t you lose my number.”\n",
    "When the season fully starts, is this likely to become a common occurrence?  Will pale faces be seen lined up, on their knees, like a Trump family cubicle at a Russian piss hooker bordello?  Perhaps.  But at least now everyone’s racist uncle can waddle off and watch football again during the holidays and just shut the f*ck up.'''"
   ]
  },
  {
   "cell_type": "code",
   "execution_count": 51,
   "id": "601bc601",
   "metadata": {},
   "outputs": [
    {
     "data": {
      "text/plain": [
       "'“Turnabout is fair play”, the old saying goes.The thing about old sayings, however, is that they’re old. Nobody in their right mind walks around shouting “23 Skidoo!” anymore.\\nThat’s way too many Skidoos for Matt Gaetz anyway.\\nAfter season after season of trauma, with professional sports figures of color kneeling in protest during America’s pearly white people’s national anthem, now the fallout comes to pass.\\nLast week, during a practice game between the Atlanta Falcons and a group of professional outhouse builders, starting tight end Joe Barron chose to kneel down in protest during the playing of “Lift Every Voice and Sing”, known colloquially as “The Black National Anthem.” It’s unknown why “Boyz In Tha Hood” was not chosen for the honor.\\nThe Caucasian was immediately labelled as a “racist” by onlookers, local news organizations, and his own teammates.\\xa0 Barron explained that he was simply protesting white suffrage.\\n“All of a sudden, black people are taking over too many things. Captain America. Hockey. There’s even that country music song with rapping in it.\\xa0 That is wrong.\\xa0 We want America the way it used to be back when it was great. With separate water fountains and restaurants. Does that make me racist? If it does, then how come I got a boner when Halle Berry was topless in that ‘Swordfish’ movie?”\\nBarron’s supporters, overwhelmingly older Trump voting tard weebles, point out that it’s not offensive because people didn’t fight and sacrifice their lives for the song.\\xa0 Which, they didn’t do for the other one, either. Who would die for a song? Oh yeah, half of Milli Vanilli.\\n\\nPhil Collins told him over and over. “Milli. Milli, don’t you lose my number.”\\nWhen the season fully starts, is this likely to become a common occurrence?\\xa0 Will pale faces be seen lined up, on their knees, like a Trump family cubicle at a Russian piss hooker bordello?\\xa0 Perhaps.\\xa0 But at least now everyone’s racist uncle can waddle off and watch football again during the holidays and just shut the f*ck up.'"
      ]
     },
     "execution_count": 51,
     "metadata": {},
     "output_type": "execute_result"
    }
   ],
   "source": [
    "fake3 = pd.Series(thirdfake)\n",
    "\n",
    "fake3.iloc[0]"
   ]
  },
  {
   "cell_type": "code",
   "execution_count": 53,
   "id": "c81ad73f",
   "metadata": {},
   "outputs": [
    {
     "name": "stdout",
     "output_type": "stream",
     "text": [
      "[1]\n"
     ]
    }
   ],
   "source": [
    "##TRYING TO MAKE A PREDICTION ON A NEW DATA ((using same training data))\n",
    "\n",
    "#SVM\n",
    "\n",
    "pipe = Pipeline([\n",
    "    ('vect', CountVectorizer()),\n",
    "    ('tfidf', TfidfTransformer()),\n",
    "    ('clf', LinearSVC())\n",
    "])\n",
    "\n",
    "model = pipe.fit(X_train, y_train)\n",
    "prediction = model.predict(fake3)\n",
    "\n",
    "print(prediction)\n",
    "\n",
    "#Fail\n"
   ]
  },
  {
   "cell_type": "code",
   "execution_count": 54,
   "id": "3f673fb9",
   "metadata": {},
   "outputs": [
    {
     "data": {
      "text/plain": [
       "'Trump Is Now Trying To Get Mike Pence Impeached\\nJason EasleyWed, Sep 25th, 2019\\nDuring a press conference, Trump said that if he is going to be investigated, Vice President Pence’s phone calls with Ukraine should also be investigated.\\nAccording to the official White House transcript as provided to PolitcusUSA, Trump said:\\nthe witch hunt continues, but they’re getting hit hard in this witch hunt, because when they look at the information, it’s a joke. Impeachment? For that? When you have a wonderful meeting, or you have a wonderful phone conversation?\\nI think you should ask. We actually — you know, that was the second conversation. I think you should ask for the first conversation also. I can’t believe they haven’t, although I heard there’s a — there’s a rumor out they want the first conversation. It was beautiful. It was just a perfect conversation.\\nBut I think you should do that. I think you should do, and I think you should ask for VP Pence’s conversation because he had a couple conversations also. I can save you a lot of time. They’re all perfect. Nothing was mentioned of any import other than congratulations. But the word is that they’re going to ask for the first phone conversation. You can have it anytime you need it. And also Mike Pence’s conversations, which were, I think, one or two of them. They were perfect. They were all perfect.\\n\\nThere should be no doubt in anyone’s mind that Trump would throw Mike Pence under the bus in a second to save his presidency. Trump has made no secret of his desire to build a family political dynasty, and he sees his kids Don Jr. and Ivanka as next line after he leaves office. Trump has declined to endorse Pence, and at times, has even waffled on keeping Pence as his vice president.\\nTrump is looking to blame anyone, including people in his own administration to save his skin. Pence was always going to go down with the Trump ship.\\nBut, he never thought that it would be Trump pushing him overboard.'"
      ]
     },
     "execution_count": 54,
     "metadata": {},
     "output_type": "execute_result"
    }
   ],
   "source": [
    "fakefour = '''Trump Is Now Trying To Get Mike Pence Impeached\n",
    "Jason EasleyWed, Sep 25th, 2019\n",
    "During a press conference, Trump said that if he is going to be investigated, Vice President Pence’s phone calls with Ukraine should also be investigated.\n",
    "According to the official White House transcript as provided to PolitcusUSA, Trump said:\n",
    "the witch hunt continues, but they’re getting hit hard in this witch hunt, because when they look at the information, it’s a joke. Impeachment? For that? When you have a wonderful meeting, or you have a wonderful phone conversation?\n",
    "I think you should ask. We actually — you know, that was the second conversation. I think you should ask for the first conversation also. I can’t believe they haven’t, although I heard there’s a — there’s a rumor out they want the first conversation. It was beautiful. It was just a perfect conversation.\n",
    "But I think you should do that. I think you should do, and I think you should ask for VP Pence’s conversation because he had a couple conversations also. I can save you a lot of time. They’re all perfect. Nothing was mentioned of any import other than congratulations. But the word is that they’re going to ask for the first phone conversation. You can have it anytime you need it. And also Mike Pence’s conversations, which were, I think, one or two of them. They were perfect. They were all perfect.\n",
    "\n",
    "There should be no doubt in anyone’s mind that Trump would throw Mike Pence under the bus in a second to save his presidency. Trump has made no secret of his desire to build a family political dynasty, and he sees his kids Don Jr. and Ivanka as next line after he leaves office. Trump has declined to endorse Pence, and at times, has even waffled on keeping Pence as his vice president.\n",
    "Trump is looking to blame anyone, including people in his own administration to save his skin. Pence was always going to go down with the Trump ship.\n",
    "But, he never thought that it would be Trump pushing him overboard.'''\n",
    "\n",
    "fake4 = pd.Series(fakefour)\n",
    "\n",
    "fake4.iloc[0]"
   ]
  },
  {
   "cell_type": "code",
   "execution_count": 55,
   "id": "acc8646f",
   "metadata": {},
   "outputs": [
    {
     "name": "stdout",
     "output_type": "stream",
     "text": [
      "[1]\n"
     ]
    }
   ],
   "source": [
    "prediction = model.predict(fake4)\n",
    "\n",
    "print(prediction)\n",
    "\n",
    "#not good"
   ]
  },
  {
   "cell_type": "code",
   "execution_count": 56,
   "id": "260606f4",
   "metadata": {},
   "outputs": [
    {
     "data": {
      "text/plain": [
       "'Reminder: Trump\\'s grandfather was a pimp and tax evader; his father a member of the KKK\\nMost families of enormous wealth have a dark and sometimes scandalous, even monstrous past. Donald Trump\\'s clan is no exception to that rule. His grandfather was a pimp and a tax evader, his father a racist who would in the course of his life, clash with New York City Police as a member of the Ku Klux Klan and then as a wealthy real estate magnate, refuse to rent to people of color. \\n\\nDonald Trump\\'s legacy is anything but a rag to riches story. His dad kicked the bucket with $250-$300 million in the bank. The man who wants to ban all people of a particular religion from travel wasn\\'t born with a silver spoon in his mouth, his was white gold. The only thing more obnoxious than Donald Trump himself, is his family\\'s money-grubbing, bigoted history. \\n\\nTrump\\'s Grandfather: Pimp and Tax Evader \\n\\nDonald Trump\\'s grandfather, Frederick or Friedrich Trump, made his money from operating a decadent restaurant and hotel during the Gold Rush at Klondike in the Yukon. \\n\\n\"Trump made his first fortune operating boom-town hotels, restaurants and brothels\", is more accurate, according to the CBC news report, \"Donald Trump\\'s grandfather ran Canadian brothel during gold rush, author says\". Author Gwenda Blair simply wrote, \"The bulk of the cash flow came from the sale of liquor and sex.\" \\n\\nTrump\\'s grandfather was born in Germany, to parents who were employed by a vineyard. He moved to New York City in 1885 where he became a barber. After six years of this, Frederick Trump moved across the United States to Seattle, Washington, where he owned and operated what he referred to as a \"decadent restaurant\" that was actually called \"Poodle Dog\" in Seattle\\'s red light district. Interestingly, the name and concept that had already been established in San Francisco. (He named his restaurant after a dog but would later make money selling horse meat) Around this time Frederick Trump became a US citizen. \\n\\nA Yukon Sun Newspaper writer described his business: \"For single men the Arctic has excellent accommodations as well as the best restaurant in Bennett, but I would not advise respectable women to go there to sleep as they are liable to hear that which would be repugnant to their feelings – and uttered, too, by the depraved of their own sex\".'"
      ]
     },
     "execution_count": 56,
     "metadata": {},
     "output_type": "execute_result"
    }
   ],
   "source": [
    "clearlyfake = '''Reminder: Trump's grandfather was a pimp and tax evader; his father a member of the KKK\n",
    "Most families of enormous wealth have a dark and sometimes scandalous, even monstrous past. Donald Trump's clan is no exception to that rule. His grandfather was a pimp and a tax evader, his father a racist who would in the course of his life, clash with New York City Police as a member of the Ku Klux Klan and then as a wealthy real estate magnate, refuse to rent to people of color. \n",
    "\n",
    "Donald Trump's legacy is anything but a rag to riches story. His dad kicked the bucket with $250-$300 million in the bank. The man who wants to ban all people of a particular religion from travel wasn't born with a silver spoon in his mouth, his was white gold. The only thing more obnoxious than Donald Trump himself, is his family's money-grubbing, bigoted history. \n",
    "\n",
    "Trump's Grandfather: Pimp and Tax Evader \n",
    "\n",
    "Donald Trump's grandfather, Frederick or Friedrich Trump, made his money from operating a decadent restaurant and hotel during the Gold Rush at Klondike in the Yukon. \n",
    "\n",
    "\"Trump made his first fortune operating boom-town hotels, restaurants and brothels\", is more accurate, according to the CBC news report, \"Donald Trump's grandfather ran Canadian brothel during gold rush, author says\". Author Gwenda Blair simply wrote, \"The bulk of the cash flow came from the sale of liquor and sex.\" \n",
    "\n",
    "Trump's grandfather was born in Germany, to parents who were employed by a vineyard. He moved to New York City in 1885 where he became a barber. After six years of this, Frederick Trump moved across the United States to Seattle, Washington, where he owned and operated what he referred to as a \"decadent restaurant\" that was actually called \"Poodle Dog\" in Seattle's red light district. Interestingly, the name and concept that had already been established in San Francisco. (He named his restaurant after a dog but would later make money selling horse meat) Around this time Frederick Trump became a US citizen. \n",
    "\n",
    "A Yukon Sun Newspaper writer described his business: \"For single men the Arctic has excellent accommodations as well as the best restaurant in Bennett, but I would not advise respectable women to go there to sleep as they are liable to hear that which would be repugnant to their feelings – and uttered, too, by the depraved of their own sex\".'''\n",
    "\n",
    "fake5 = pd.Series(clearlyfake)\n",
    "fake5.iloc[0]"
   ]
  },
  {
   "cell_type": "code",
   "execution_count": 57,
   "id": "f6e1351a",
   "metadata": {},
   "outputs": [
    {
     "name": "stdout",
     "output_type": "stream",
     "text": [
      "[1]\n"
     ]
    }
   ],
   "source": [
    "prediction = model.predict(fake5)\n",
    "\n",
    "print(prediction)\n",
    "\n",
    "#not good"
   ]
  },
  {
   "cell_type": "code",
   "execution_count": 36,
   "id": "selective-subsection",
   "metadata": {},
   "outputs": [
    {
     "name": "stdout",
     "output_type": "stream",
     "text": [
      "accuracy:   87.729\n"
     ]
    },
    {
     "data": {
      "image/png": "[encoded data removed]",
      "text/plain": [
       "<Figure size 432x288 with 2 Axes>"
      ]
     },
     "metadata": {
      "needs_background": "light"
     },
     "output_type": "display_data"
    }
   ],
   "source": [
    "#SVM\n",
    "from sklearn.svm import LinearSVC\n",
    "\n",
    "pipe = Pipeline([\n",
    "    ('vect', CountVectorizer()),\n",
    "    ('tfidf', TfidfTransformer()),\n",
    "    ('clf', LinearSVC())\n",
    "])\n",
    "\n",
    "model = pipe.fit(X_train, y_train)\n",
    "prediction = model.predict(X_test)\n",
    "\n",
    "score = metrics.accuracy_score(y_test, prediction)\n",
    "print(\"accuracy:   %0.3f\" % (score*100))\n",
    "cm = metrics.confusion_matrix(y_test, prediction, labels=[0, 1])\n",
    "\n",
    "\n",
    "\n",
    "fig, ax = plot_confusion_matrix(conf_mat=confusion_matrix(y_test, prediction),\n",
    "                                show_absolute=True,\n",
    "                                show_normed=True,\n",
    "                              colorbar=True)\n",
    "plt.title(\"Linear SVM\")\n",
    "plt.show()"
   ]
  },
  {
   "cell_type": "code",
   "execution_count": 53,
   "id": "2bef076b",
   "metadata": {},
   "outputs": [],
   "source": [
    "onion1 = '''U.S. Responds To Rising Sea Levels By Patting East Coast With Towels. WASHINGTON—In an effort to combat the effects of climate change, federal authorities responded to rising sea levels by patting the East Coast with towels, sources confirmed Friday. “Now more than ever, it is important that we take action to protect our coastlines with ultra-absorbent linens,” said FEMA administrator Deanne Criswell, who confirmed that the agency had dispatched teams across the region to mitigate any potential damage by wadding up, rolling up, and spreading towels across its beaches. “We’re proud to unveil this as the greatest U.S. climate change initiative to date. Simply giving everything a good patting down will preserve and even create miles of coastlines that we didn’t previously have. Plus, feel—they’re super soft.” At press time, authorities were scrambling to respond to the crisis caused by the unprecedented concentrations of mildew in the air. \n",
    "'''\n",
    "\n",
    "onion2 = '''Subway CEO Apologizes For Trusting Fish Who Falsified Documents To Pass As Tuna. MILFORD, CT—Addressing recent questions about the integrity of ingredients in one of the chain’s most popular sandwiches, Subway CEO John Chidsey issued a formal apology Thursday for trusting a fish who allegedly submitted false documents to the restaurant in order to pass as a tuna. “Subway has always prided itself on thoroughly vetting anyone who will represent our brand, but we failed you this time, placing our trust in what turned out to be a common carp,” said Chidsey, adding that while the fish in question went through several rounds of vigorous interviews before it was brought onto the team, its fraudulent credentials claiming membership in the Thunnus albacares species were never questioned. “Though we, too, are victims in this situation, ultimately the onus was on us to more closely examine this candidate’s purported background as a yellowfin tuna. In our defense, the paperwork was all there, we simply failed to do our due diligence and check this fish’s references. Perhaps if we had, we would not have been taken in by this duplicitous carp. We just got mixed up with the wrong fish, that’s all.” Chidsey went on to address allegations regarding the role the carp played in his personal life, acknowledging the two had carried on a consensual, extramarital affair during the fish’s brief tenure at the company.\n",
    "'''\n",
    "\n",
    "onion3 = '''Sweatshop Workers Stand In Line For Hours To Assemble New iPhone 13.'''"
   ]
  },
  {
   "cell_type": "code",
   "execution_count": 54,
   "id": "4ca8fde8",
   "metadata": {},
   "outputs": [],
   "source": [
    "onions = pd.Series(data=[onion1, onion2, onion3])"
   ]
  },
  {
   "cell_type": "code",
   "execution_count": 55,
   "id": "967cda9a",
   "metadata": {},
   "outputs": [
    {
     "data": {
      "text/plain": [
       "0    U.S. Responds To Rising Sea Levels By Patting ...\n",
       "1    Subway CEO Apologizes For Trusting Fish Who Fa...\n",
       "2    Sweatshop Workers Stand In Line For Hours To A...\n",
       "dtype: object"
      ]
     },
     "execution_count": 55,
     "metadata": {},
     "output_type": "execute_result"
    }
   ],
   "source": [
    "onions"
   ]
  },
  {
   "cell_type": "code",
   "execution_count": 56,
   "id": "019573d6",
   "metadata": {},
   "outputs": [
    {
     "data": {
      "text/plain": [
       "array([1, 0, 1])"
      ]
     },
     "execution_count": 56,
     "metadata": {},
     "output_type": "execute_result"
    }
   ],
   "source": [
    "prediction = model.predict(onions)\n",
    "\n",
    "prediction"
   ]
  },
  {
   "cell_type": "code",
   "execution_count": 75,
   "id": "passing-ottawa",
   "metadata": {},
   "outputs": [
    {
     "name": "stdout",
     "output_type": "stream",
     "text": [
      "accuracy:   84.647\n"
     ]
    },
    {
     "data": {
      "image/png": "[encoded data removed]",
      "text/plain": [
       "<Figure size 432x288 with 2 Axes>"
      ]
     },
     "metadata": {
      "needs_background": "light"
     },
     "output_type": "display_data"
    }
   ],
   "source": [
    "\n",
    "#Passive Aggressive Classifier\n",
    "from sklearn.linear_model import PassiveAggressiveClassifier\n",
    "\n",
    "pipe = Pipeline([\n",
    "    ('vect', CountVectorizer()),\n",
    "    ('tfidf', TfidfTransformer()),\n",
    "    ('clf',  PassiveAggressiveClassifier())\n",
    "])\n",
    "\n",
    "model = pipe.fit(X_train, y_train)\n",
    "prediction = model.predict(X_test)\n",
    "\n",
    "score = metrics.accuracy_score(y_test, prediction)\n",
    "print(\"accuracy:   %0.3f\" % (score*100))\n",
    "cm = metrics.confusion_matrix(y_test, prediction, labels=[0,1])\n",
    "\n",
    "\n",
    "\n",
    "fig, ax = plot_confusion_matrix(conf_mat=confusion_matrix(y_test, prediction),\n",
    "                                show_absolute=True,\n",
    "                                show_normed=True,\n",
    "                                colorbar=True)\n",
    "\n",
    "plt.title(\"Passive Agressive Classifier\")\n",
    "plt.show()"
   ]
  },
  {
   "cell_type": "code",
   "execution_count": 37,
   "id": "urban-austria",
   "metadata": {},
   "outputs": [],
   "source": [
    "from sklearn.model_selection import RepeatedStratifiedKFold\n",
    "from sklearn.model_selection import GridSearchCV\n",
    "from sklearn.metrics import make_scorer\n",
    "from sklearn.metrics import accuracy_score"
   ]
  },
  {
   "cell_type": "code",
   "execution_count": 38,
   "id": "metric-happening",
   "metadata": {},
   "outputs": [
    {
     "ename": "ValueError",
     "evalue": "Invalid parameter param_grid for estimator MultinomialNB(). Check the list of available parameters with `estimator.get_params().keys()`.",
     "output_type": "error",
     "traceback": [
      "\u001b[0;31m---------------------------------------------------------------------------\u001b[0m",
      "\u001b[0;31mValueError\u001b[0m                                Traceback (most recent call last)",
      "\u001b[0;32m/var/folders/wg/tzq4qwy97x3_999pctn35jlh0000gn/T/ipykernel_6442/1404353301.py\u001b[0m in \u001b[0;36m<module>\u001b[0;34m\u001b[0m\n\u001b[1;32m     14\u001b[0m                   \u001b[0mparam_grid\u001b[0m\u001b[0;34m=\u001b[0m\u001b[0;34m{\u001b[0m\u001b[0;34m'param_grid'\u001b[0m\u001b[0;34m:\u001b[0m \u001b[0mrange\u001b[0m\u001b[0;34m(\u001b[0m\u001b[0;36m2\u001b[0m\u001b[0;34m,\u001b[0m \u001b[0;36m403\u001b[0m\u001b[0;34m,\u001b[0m \u001b[0;36m10\u001b[0m\u001b[0;34m)\u001b[0m\u001b[0;34m}\u001b[0m\u001b[0;34m,\u001b[0m\u001b[0;34m\u001b[0m\u001b[0;34m\u001b[0m\u001b[0m\n\u001b[1;32m     15\u001b[0m                   scoring=scoring, refit='AUC', return_train_score=True)\n\u001b[0;32m---> 16\u001b[0;31m \u001b[0mgs\u001b[0m\u001b[0;34m.\u001b[0m\u001b[0mfit\u001b[0m\u001b[0;34m(\u001b[0m\u001b[0mX_test\u001b[0m\u001b[0;34m,\u001b[0m \u001b[0my_test\u001b[0m\u001b[0;34m)\u001b[0m\u001b[0;34m\u001b[0m\u001b[0;34m\u001b[0m\u001b[0m\n\u001b[0m\u001b[1;32m     17\u001b[0m \u001b[0mresults\u001b[0m \u001b[0;34m=\u001b[0m \u001b[0mgs\u001b[0m\u001b[0;34m.\u001b[0m\u001b[0mcv_results_\u001b[0m\u001b[0;34m\u001b[0m\u001b[0;34m\u001b[0m\u001b[0m\n",
      "\u001b[0;32m~/opt/anaconda3/lib/python3.7/site-packages/sklearn/utils/validation.py\u001b[0m in \u001b[0;36minner_f\u001b[0;34m(*args, **kwargs)\u001b[0m\n\u001b[1;32m     61\u001b[0m             \u001b[0mextra_args\u001b[0m \u001b[0;34m=\u001b[0m \u001b[0mlen\u001b[0m\u001b[0;34m(\u001b[0m\u001b[0margs\u001b[0m\u001b[0;34m)\u001b[0m \u001b[0;34m-\u001b[0m \u001b[0mlen\u001b[0m\u001b[0;34m(\u001b[0m\u001b[0mall_args\u001b[0m\u001b[0;34m)\u001b[0m\u001b[0;34m\u001b[0m\u001b[0;34m\u001b[0m\u001b[0m\n\u001b[1;32m     62\u001b[0m             \u001b[0;32mif\u001b[0m \u001b[0mextra_args\u001b[0m \u001b[0;34m<=\u001b[0m \u001b[0;36m0\u001b[0m\u001b[0;34m:\u001b[0m\u001b[0;34m\u001b[0m\u001b[0;34m\u001b[0m\u001b[0m\n\u001b[0;32m---> 63\u001b[0;31m                 \u001b[0;32mreturn\u001b[0m \u001b[0mf\u001b[0m\u001b[0;34m(\u001b[0m\u001b[0;34m*\u001b[0m\u001b[0margs\u001b[0m\u001b[0;34m,\u001b[0m \u001b[0;34m**\u001b[0m\u001b[0mkwargs\u001b[0m\u001b[0;34m)\u001b[0m\u001b[0;34m\u001b[0m\u001b[0;34m\u001b[0m\u001b[0m\n\u001b[0m\u001b[1;32m     64\u001b[0m \u001b[0;34m\u001b[0m\u001b[0m\n\u001b[1;32m     65\u001b[0m             \u001b[0;31m# extra_args > 0\u001b[0m\u001b[0;34m\u001b[0m\u001b[0;34m\u001b[0m\u001b[0;34m\u001b[0m\u001b[0m\n",
      "\u001b[0;32m~/opt/anaconda3/lib/python3.7/site-packages/sklearn/model_selection/_search.py\u001b[0m in \u001b[0;36mfit\u001b[0;34m(self, X, y, groups, **fit_params)\u001b[0m\n\u001b[1;32m    839\u001b[0m                 \u001b[0;32mreturn\u001b[0m \u001b[0mresults\u001b[0m\u001b[0;34m\u001b[0m\u001b[0;34m\u001b[0m\u001b[0m\n\u001b[1;32m    840\u001b[0m \u001b[0;34m\u001b[0m\u001b[0m\n\u001b[0;32m--> 841\u001b[0;31m             \u001b[0mself\u001b[0m\u001b[0;34m.\u001b[0m\u001b[0m_run_search\u001b[0m\u001b[0;34m(\u001b[0m\u001b[0mevaluate_candidates\u001b[0m\u001b[0;34m)\u001b[0m\u001b[0;34m\u001b[0m\u001b[0;34m\u001b[0m\u001b[0m\n\u001b[0m\u001b[1;32m    842\u001b[0m \u001b[0;34m\u001b[0m\u001b[0m\n\u001b[1;32m    843\u001b[0m             \u001b[0;31m# multimetric is determined here because in the case of a callable\u001b[0m\u001b[0;34m\u001b[0m\u001b[0;34m\u001b[0m\u001b[0;34m\u001b[0m\u001b[0m\n",
      "\u001b[0;32m~/opt/anaconda3/lib/python3.7/site-packages/sklearn/model_selection/_search.py\u001b[0m in \u001b[0;36m_run_search\u001b[0;34m(self, evaluate_candidates)\u001b[0m\n\u001b[1;32m   1294\u001b[0m     \u001b[0;32mdef\u001b[0m \u001b[0m_run_search\u001b[0m\u001b[0;34m(\u001b[0m\u001b[0mself\u001b[0m\u001b[0;34m,\u001b[0m \u001b[0mevaluate_candidates\u001b[0m\u001b[0;34m)\u001b[0m\u001b[0;34m:\u001b[0m\u001b[0;34m\u001b[0m\u001b[0;34m\u001b[0m\u001b[0m\n\u001b[1;32m   1295\u001b[0m         \u001b[0;34m\"\"\"Search all candidates in param_grid\"\"\"\u001b[0m\u001b[0;34m\u001b[0m\u001b[0;34m\u001b[0m\u001b[0m\n\u001b[0;32m-> 1296\u001b[0;31m         \u001b[0mevaluate_candidates\u001b[0m\u001b[0;34m(\u001b[0m\u001b[0mParameterGrid\u001b[0m\u001b[0;34m(\u001b[0m\u001b[0mself\u001b[0m\u001b[0;34m.\u001b[0m\u001b[0mparam_grid\u001b[0m\u001b[0;34m)\u001b[0m\u001b[0;34m)\u001b[0m\u001b[0;34m\u001b[0m\u001b[0;34m\u001b[0m\u001b[0m\n\u001b[0m\u001b[1;32m   1297\u001b[0m \u001b[0;34m\u001b[0m\u001b[0m\n\u001b[1;32m   1298\u001b[0m \u001b[0;34m\u001b[0m\u001b[0m\n",
      "\u001b[0;32m~/opt/anaconda3/lib/python3.7/site-packages/sklearn/model_selection/_search.py\u001b[0m in \u001b[0;36mevaluate_candidates\u001b[0;34m(candidate_params, cv, more_results)\u001b[0m\n\u001b[1;32m    807\u001b[0m                                    (split_idx, (train, test)) in product(\n\u001b[1;32m    808\u001b[0m                                    \u001b[0menumerate\u001b[0m\u001b[0;34m(\u001b[0m\u001b[0mcandidate_params\u001b[0m\u001b[0;34m)\u001b[0m\u001b[0;34m,\u001b[0m\u001b[0;34m\u001b[0m\u001b[0;34m\u001b[0m\u001b[0m\n\u001b[0;32m--> 809\u001b[0;31m                                    enumerate(cv.split(X, y, groups))))\n\u001b[0m\u001b[1;32m    810\u001b[0m \u001b[0;34m\u001b[0m\u001b[0m\n\u001b[1;32m    811\u001b[0m                 \u001b[0;32mif\u001b[0m \u001b[0mlen\u001b[0m\u001b[0;34m(\u001b[0m\u001b[0mout\u001b[0m\u001b[0;34m)\u001b[0m \u001b[0;34m<\u001b[0m \u001b[0;36m1\u001b[0m\u001b[0;34m:\u001b[0m\u001b[0;34m\u001b[0m\u001b[0;34m\u001b[0m\u001b[0m\n",
      "\u001b[0;32m~/opt/anaconda3/lib/python3.7/site-packages/joblib/parallel.py\u001b[0m in \u001b[0;36m__call__\u001b[0;34m(self, iterable)\u001b[0m\n\u001b[1;32m   1039\u001b[0m             \u001b[0;31m# remaining jobs.\u001b[0m\u001b[0;34m\u001b[0m\u001b[0;34m\u001b[0m\u001b[0;34m\u001b[0m\u001b[0m\n\u001b[1;32m   1040\u001b[0m             \u001b[0mself\u001b[0m\u001b[0;34m.\u001b[0m\u001b[0m_iterating\u001b[0m \u001b[0;34m=\u001b[0m \u001b[0;32mFalse\u001b[0m\u001b[0;34m\u001b[0m\u001b[0;34m\u001b[0m\u001b[0m\n\u001b[0;32m-> 1041\u001b[0;31m             \u001b[0;32mif\u001b[0m \u001b[0mself\u001b[0m\u001b[0;34m.\u001b[0m\u001b[0mdispatch_one_batch\u001b[0m\u001b[0;34m(\u001b[0m\u001b[0miterator\u001b[0m\u001b[0;34m)\u001b[0m\u001b[0;34m:\u001b[0m\u001b[0;34m\u001b[0m\u001b[0;34m\u001b[0m\u001b[0m\n\u001b[0m\u001b[1;32m   1042\u001b[0m                 \u001b[0mself\u001b[0m\u001b[0;34m.\u001b[0m\u001b[0m_iterating\u001b[0m \u001b[0;34m=\u001b[0m \u001b[0mself\u001b[0m\u001b[0;34m.\u001b[0m\u001b[0m_original_iterator\u001b[0m \u001b[0;32mis\u001b[0m \u001b[0;32mnot\u001b[0m \u001b[0;32mNone\u001b[0m\u001b[0;34m\u001b[0m\u001b[0;34m\u001b[0m\u001b[0m\n\u001b[1;32m   1043\u001b[0m \u001b[0;34m\u001b[0m\u001b[0m\n",
      "\u001b[0;32m~/opt/anaconda3/lib/python3.7/site-packages/joblib/parallel.py\u001b[0m in \u001b[0;36mdispatch_one_batch\u001b[0;34m(self, iterator)\u001b[0m\n\u001b[1;32m    857\u001b[0m                 \u001b[0;32mreturn\u001b[0m \u001b[0;32mFalse\u001b[0m\u001b[0;34m\u001b[0m\u001b[0;34m\u001b[0m\u001b[0m\n\u001b[1;32m    858\u001b[0m             \u001b[0;32melse\u001b[0m\u001b[0;34m:\u001b[0m\u001b[0;34m\u001b[0m\u001b[0;34m\u001b[0m\u001b[0m\n\u001b[0;32m--> 859\u001b[0;31m                 \u001b[0mself\u001b[0m\u001b[0;34m.\u001b[0m\u001b[0m_dispatch\u001b[0m\u001b[0;34m(\u001b[0m\u001b[0mtasks\u001b[0m\u001b[0;34m)\u001b[0m\u001b[0;34m\u001b[0m\u001b[0;34m\u001b[0m\u001b[0m\n\u001b[0m\u001b[1;32m    860\u001b[0m                 \u001b[0;32mreturn\u001b[0m \u001b[0;32mTrue\u001b[0m\u001b[0;34m\u001b[0m\u001b[0;34m\u001b[0m\u001b[0m\n\u001b[1;32m    861\u001b[0m \u001b[0;34m\u001b[0m\u001b[0m\n",
      "\u001b[0;32m~/opt/anaconda3/lib/python3.7/site-packages/joblib/parallel.py\u001b[0m in \u001b[0;36m_dispatch\u001b[0;34m(self, batch)\u001b[0m\n\u001b[1;32m    775\u001b[0m         \u001b[0;32mwith\u001b[0m \u001b[0mself\u001b[0m\u001b[0;34m.\u001b[0m\u001b[0m_lock\u001b[0m\u001b[0;34m:\u001b[0m\u001b[0;34m\u001b[0m\u001b[0;34m\u001b[0m\u001b[0m\n\u001b[1;32m    776\u001b[0m             \u001b[0mjob_idx\u001b[0m \u001b[0;34m=\u001b[0m \u001b[0mlen\u001b[0m\u001b[0;34m(\u001b[0m\u001b[0mself\u001b[0m\u001b[0;34m.\u001b[0m\u001b[0m_jobs\u001b[0m\u001b[0;34m)\u001b[0m\u001b[0;34m\u001b[0m\u001b[0;34m\u001b[0m\u001b[0m\n\u001b[0;32m--> 777\u001b[0;31m             \u001b[0mjob\u001b[0m \u001b[0;34m=\u001b[0m \u001b[0mself\u001b[0m\u001b[0;34m.\u001b[0m\u001b[0m_backend\u001b[0m\u001b[0;34m.\u001b[0m\u001b[0mapply_async\u001b[0m\u001b[0;34m(\u001b[0m\u001b[0mbatch\u001b[0m\u001b[0;34m,\u001b[0m \u001b[0mcallback\u001b[0m\u001b[0;34m=\u001b[0m\u001b[0mcb\u001b[0m\u001b[0;34m)\u001b[0m\u001b[0;34m\u001b[0m\u001b[0;34m\u001b[0m\u001b[0m\n\u001b[0m\u001b[1;32m    778\u001b[0m             \u001b[0;31m# A job can complete so quickly than its callback is\u001b[0m\u001b[0;34m\u001b[0m\u001b[0;34m\u001b[0m\u001b[0;34m\u001b[0m\u001b[0m\n\u001b[1;32m    779\u001b[0m             \u001b[0;31m# called before we get here, causing self._jobs to\u001b[0m\u001b[0;34m\u001b[0m\u001b[0;34m\u001b[0m\u001b[0;34m\u001b[0m\u001b[0m\n",
      "\u001b[0;32m~/opt/anaconda3/lib/python3.7/site-packages/joblib/_parallel_backends.py\u001b[0m in \u001b[0;36mapply_async\u001b[0;34m(self, func, callback)\u001b[0m\n\u001b[1;32m    206\u001b[0m     \u001b[0;32mdef\u001b[0m \u001b[0mapply_async\u001b[0m\u001b[0;34m(\u001b[0m\u001b[0mself\u001b[0m\u001b[0;34m,\u001b[0m \u001b[0mfunc\u001b[0m\u001b[0;34m,\u001b[0m \u001b[0mcallback\u001b[0m\u001b[0;34m=\u001b[0m\u001b[0;32mNone\u001b[0m\u001b[0;34m)\u001b[0m\u001b[0;34m:\u001b[0m\u001b[0;34m\u001b[0m\u001b[0;34m\u001b[0m\u001b[0m\n\u001b[1;32m    207\u001b[0m         \u001b[0;34m\"\"\"Schedule a func to be run\"\"\"\u001b[0m\u001b[0;34m\u001b[0m\u001b[0;34m\u001b[0m\u001b[0m\n\u001b[0;32m--> 208\u001b[0;31m         \u001b[0mresult\u001b[0m \u001b[0;34m=\u001b[0m \u001b[0mImmediateResult\u001b[0m\u001b[0;34m(\u001b[0m\u001b[0mfunc\u001b[0m\u001b[0;34m)\u001b[0m\u001b[0;34m\u001b[0m\u001b[0;34m\u001b[0m\u001b[0m\n\u001b[0m\u001b[1;32m    209\u001b[0m         \u001b[0;32mif\u001b[0m \u001b[0mcallback\u001b[0m\u001b[0;34m:\u001b[0m\u001b[0;34m\u001b[0m\u001b[0;34m\u001b[0m\u001b[0m\n\u001b[1;32m    210\u001b[0m             \u001b[0mcallback\u001b[0m\u001b[0;34m(\u001b[0m\u001b[0mresult\u001b[0m\u001b[0;34m)\u001b[0m\u001b[0;34m\u001b[0m\u001b[0;34m\u001b[0m\u001b[0m\n",
      "\u001b[0;32m~/opt/anaconda3/lib/python3.7/site-packages/joblib/_parallel_backends.py\u001b[0m in \u001b[0;36m__init__\u001b[0;34m(self, batch)\u001b[0m\n\u001b[1;32m    570\u001b[0m         \u001b[0;31m# Don't delay the application, to avoid keeping the input\u001b[0m\u001b[0;34m\u001b[0m\u001b[0;34m\u001b[0m\u001b[0;34m\u001b[0m\u001b[0m\n\u001b[1;32m    571\u001b[0m         \u001b[0;31m# arguments in memory\u001b[0m\u001b[0;34m\u001b[0m\u001b[0;34m\u001b[0m\u001b[0;34m\u001b[0m\u001b[0m\n\u001b[0;32m--> 572\u001b[0;31m         \u001b[0mself\u001b[0m\u001b[0;34m.\u001b[0m\u001b[0mresults\u001b[0m \u001b[0;34m=\u001b[0m \u001b[0mbatch\u001b[0m\u001b[0;34m(\u001b[0m\u001b[0;34m)\u001b[0m\u001b[0;34m\u001b[0m\u001b[0;34m\u001b[0m\u001b[0m\n\u001b[0m\u001b[1;32m    573\u001b[0m \u001b[0;34m\u001b[0m\u001b[0m\n\u001b[1;32m    574\u001b[0m     \u001b[0;32mdef\u001b[0m \u001b[0mget\u001b[0m\u001b[0;34m(\u001b[0m\u001b[0mself\u001b[0m\u001b[0;34m)\u001b[0m\u001b[0;34m:\u001b[0m\u001b[0;34m\u001b[0m\u001b[0;34m\u001b[0m\u001b[0m\n",
      "\u001b[0;32m~/opt/anaconda3/lib/python3.7/site-packages/joblib/parallel.py\u001b[0m in \u001b[0;36m__call__\u001b[0;34m(self)\u001b[0m\n\u001b[1;32m    261\u001b[0m         \u001b[0;32mwith\u001b[0m \u001b[0mparallel_backend\u001b[0m\u001b[0;34m(\u001b[0m\u001b[0mself\u001b[0m\u001b[0;34m.\u001b[0m\u001b[0m_backend\u001b[0m\u001b[0;34m,\u001b[0m \u001b[0mn_jobs\u001b[0m\u001b[0;34m=\u001b[0m\u001b[0mself\u001b[0m\u001b[0;34m.\u001b[0m\u001b[0m_n_jobs\u001b[0m\u001b[0;34m)\u001b[0m\u001b[0;34m:\u001b[0m\u001b[0;34m\u001b[0m\u001b[0;34m\u001b[0m\u001b[0m\n\u001b[1;32m    262\u001b[0m             return [func(*args, **kwargs)\n\u001b[0;32m--> 263\u001b[0;31m                     for func, args, kwargs in self.items]\n\u001b[0m\u001b[1;32m    264\u001b[0m \u001b[0;34m\u001b[0m\u001b[0m\n\u001b[1;32m    265\u001b[0m     \u001b[0;32mdef\u001b[0m \u001b[0m__reduce__\u001b[0m\u001b[0;34m(\u001b[0m\u001b[0mself\u001b[0m\u001b[0;34m)\u001b[0m\u001b[0;34m:\u001b[0m\u001b[0;34m\u001b[0m\u001b[0;34m\u001b[0m\u001b[0m\n",
      "\u001b[0;32m~/opt/anaconda3/lib/python3.7/site-packages/joblib/parallel.py\u001b[0m in \u001b[0;36m<listcomp>\u001b[0;34m(.0)\u001b[0m\n\u001b[1;32m    261\u001b[0m         \u001b[0;32mwith\u001b[0m \u001b[0mparallel_backend\u001b[0m\u001b[0;34m(\u001b[0m\u001b[0mself\u001b[0m\u001b[0;34m.\u001b[0m\u001b[0m_backend\u001b[0m\u001b[0;34m,\u001b[0m \u001b[0mn_jobs\u001b[0m\u001b[0;34m=\u001b[0m\u001b[0mself\u001b[0m\u001b[0;34m.\u001b[0m\u001b[0m_n_jobs\u001b[0m\u001b[0;34m)\u001b[0m\u001b[0;34m:\u001b[0m\u001b[0;34m\u001b[0m\u001b[0;34m\u001b[0m\u001b[0m\n\u001b[1;32m    262\u001b[0m             return [func(*args, **kwargs)\n\u001b[0;32m--> 263\u001b[0;31m                     for func, args, kwargs in self.items]\n\u001b[0m\u001b[1;32m    264\u001b[0m \u001b[0;34m\u001b[0m\u001b[0m\n\u001b[1;32m    265\u001b[0m     \u001b[0;32mdef\u001b[0m \u001b[0m__reduce__\u001b[0m\u001b[0;34m(\u001b[0m\u001b[0mself\u001b[0m\u001b[0;34m)\u001b[0m\u001b[0;34m:\u001b[0m\u001b[0;34m\u001b[0m\u001b[0;34m\u001b[0m\u001b[0m\n",
      "\u001b[0;32m~/opt/anaconda3/lib/python3.7/site-packages/sklearn/utils/fixes.py\u001b[0m in \u001b[0;36m__call__\u001b[0;34m(self, *args, **kwargs)\u001b[0m\n\u001b[1;32m    220\u001b[0m     \u001b[0;32mdef\u001b[0m \u001b[0m__call__\u001b[0m\u001b[0;34m(\u001b[0m\u001b[0mself\u001b[0m\u001b[0;34m,\u001b[0m \u001b[0;34m*\u001b[0m\u001b[0margs\u001b[0m\u001b[0;34m,\u001b[0m \u001b[0;34m**\u001b[0m\u001b[0mkwargs\u001b[0m\u001b[0;34m)\u001b[0m\u001b[0;34m:\u001b[0m\u001b[0;34m\u001b[0m\u001b[0;34m\u001b[0m\u001b[0m\n\u001b[1;32m    221\u001b[0m         \u001b[0;32mwith\u001b[0m \u001b[0mconfig_context\u001b[0m\u001b[0;34m(\u001b[0m\u001b[0;34m**\u001b[0m\u001b[0mself\u001b[0m\u001b[0;34m.\u001b[0m\u001b[0mconfig\u001b[0m\u001b[0;34m)\u001b[0m\u001b[0;34m:\u001b[0m\u001b[0;34m\u001b[0m\u001b[0;34m\u001b[0m\u001b[0m\n\u001b[0;32m--> 222\u001b[0;31m             \u001b[0;32mreturn\u001b[0m \u001b[0mself\u001b[0m\u001b[0;34m.\u001b[0m\u001b[0mfunction\u001b[0m\u001b[0;34m(\u001b[0m\u001b[0;34m*\u001b[0m\u001b[0margs\u001b[0m\u001b[0;34m,\u001b[0m \u001b[0;34m**\u001b[0m\u001b[0mkwargs\u001b[0m\u001b[0;34m)\u001b[0m\u001b[0;34m\u001b[0m\u001b[0;34m\u001b[0m\u001b[0m\n\u001b[0m",
      "\u001b[0;32m~/opt/anaconda3/lib/python3.7/site-packages/sklearn/model_selection/_validation.py\u001b[0m in \u001b[0;36m_fit_and_score\u001b[0;34m(estimator, X, y, scorer, train, test, verbose, parameters, fit_params, return_train_score, return_parameters, return_n_test_samples, return_times, return_estimator, split_progress, candidate_progress, error_score)\u001b[0m\n\u001b[1;32m    584\u001b[0m             \u001b[0mcloned_parameters\u001b[0m\u001b[0;34m[\u001b[0m\u001b[0mk\u001b[0m\u001b[0;34m]\u001b[0m \u001b[0;34m=\u001b[0m \u001b[0mclone\u001b[0m\u001b[0;34m(\u001b[0m\u001b[0mv\u001b[0m\u001b[0;34m,\u001b[0m \u001b[0msafe\u001b[0m\u001b[0;34m=\u001b[0m\u001b[0;32mFalse\u001b[0m\u001b[0;34m)\u001b[0m\u001b[0;34m\u001b[0m\u001b[0;34m\u001b[0m\u001b[0m\n\u001b[1;32m    585\u001b[0m \u001b[0;34m\u001b[0m\u001b[0m\n\u001b[0;32m--> 586\u001b[0;31m         \u001b[0mestimator\u001b[0m \u001b[0;34m=\u001b[0m \u001b[0mestimator\u001b[0m\u001b[0;34m.\u001b[0m\u001b[0mset_params\u001b[0m\u001b[0;34m(\u001b[0m\u001b[0;34m**\u001b[0m\u001b[0mcloned_parameters\u001b[0m\u001b[0;34m)\u001b[0m\u001b[0;34m\u001b[0m\u001b[0;34m\u001b[0m\u001b[0m\n\u001b[0m\u001b[1;32m    587\u001b[0m \u001b[0;34m\u001b[0m\u001b[0m\n\u001b[1;32m    588\u001b[0m     \u001b[0mstart_time\u001b[0m \u001b[0;34m=\u001b[0m \u001b[0mtime\u001b[0m\u001b[0;34m.\u001b[0m\u001b[0mtime\u001b[0m\u001b[0;34m(\u001b[0m\u001b[0;34m)\u001b[0m\u001b[0;34m\u001b[0m\u001b[0;34m\u001b[0m\u001b[0m\n",
      "\u001b[0;32m~/opt/anaconda3/lib/python3.7/site-packages/sklearn/base.py\u001b[0m in \u001b[0;36mset_params\u001b[0;34m(self, **params)\u001b[0m\n\u001b[1;32m    231\u001b[0m                                  \u001b[0;34m'Check the list of available parameters '\u001b[0m\u001b[0;34m\u001b[0m\u001b[0;34m\u001b[0m\u001b[0m\n\u001b[1;32m    232\u001b[0m                                  \u001b[0;34m'with `estimator.get_params().keys()`.'\u001b[0m \u001b[0;34m%\u001b[0m\u001b[0;34m\u001b[0m\u001b[0;34m\u001b[0m\u001b[0m\n\u001b[0;32m--> 233\u001b[0;31m                                  (key, self))\n\u001b[0m\u001b[1;32m    234\u001b[0m \u001b[0;34m\u001b[0m\u001b[0m\n\u001b[1;32m    235\u001b[0m             \u001b[0;32mif\u001b[0m \u001b[0mdelim\u001b[0m\u001b[0;34m:\u001b[0m\u001b[0;34m\u001b[0m\u001b[0;34m\u001b[0m\u001b[0m\n",
      "\u001b[0;31mValueError\u001b[0m: Invalid parameter param_grid for estimator MultinomialNB(). Check the list of available parameters with `estimator.get_params().keys()`."
     ]
    }
   ],
   "source": [
    "# The scorers can be either one of the predefined metric strings or a scorer\n",
    "# callable, like the one returned by make_scorer\n",
    "\n",
    "scoring = {'AUC': 'roc_auc', 'Accuracy': make_scorer(accuracy_score)}\n",
    "\n",
    "# Setting refit='AUC', refits an estimator on the whole dataset with the\n",
    "# parameter setting that has the best cross-validated AUC score.\n",
    "# That estimator is made available at ``gs.best_estimator_`` along with\n",
    "# parameters like ``gs.best_score_``, ``gs.best_params_`` and\n",
    "# ``gs.best_index_``\n",
    "\n",
    "\n",
    "gs = GridSearchCV(MultinomialNB(),\n",
    "                  param_grid={'param_grid': range(2, 403, 10)},\n",
    "                  scoring=scoring, refit='AUC', return_train_score=True)\n",
    "gs.fit(X_test, y_test)\n",
    "results = gs.cv_results_"
   ]
  },
  {
   "cell_type": "code",
   "execution_count": 39,
   "id": "metallic-composer",
   "metadata": {},
   "outputs": [
    {
     "data": {
      "text/plain": [
       "dict_keys(['cv', 'error_score', 'estimator__alpha', 'estimator__class_prior', 'estimator__fit_prior', 'estimator', 'n_jobs', 'param_grid', 'pre_dispatch', 'refit', 'return_train_score', 'scoring', 'verbose'])"
      ]
     },
     "execution_count": 39,
     "metadata": {},
     "output_type": "execute_result"
    }
   ],
   "source": [
    "gs.get_params().keys()"
   ]
  },
  {
   "cell_type": "code",
   "execution_count": 40,
   "id": "weird-fantasy",
   "metadata": {},
   "outputs": [],
   "source": [
    "##gridsearch isn't working but 88% is fine for now -- onto PCA! ##\n"
   ]
  },
  {
   "cell_type": "code",
   "execution_count": 41,
   "id": "balanced-house",
   "metadata": {},
   "outputs": [],
   "source": [
    "from sklearn.decomposition import PCA\n",
    "# Make an instance of the Model\n",
    "pca = PCA(.95)"
   ]
  },
  {
   "cell_type": "code",
   "execution_count": 73,
   "id": "noticed-camping",
   "metadata": {},
   "outputs": [],
   "source": [
    "from sklearn.feature_extraction.text import CountVectorizer\n",
    "from sklearn.naive_bayes import MultinomialNB\n",
    "\n",
    "vectorizer = CountVectorizer()\n",
    "classifer = MultinomialNB()\n",
    "\n",
    "#x_train = vectorizer.fit_transform(X_train)\n",
    "#classifer.fit(x_train, y_train)\n",
    "\n",
    "#svd = TruncatedSVD()\n",
    "#data = svd.fit_transform(data) "
   ]
  },
  {
   "cell_type": "code",
   "execution_count": 45,
   "id": "hybrid-affiliation",
   "metadata": {},
   "outputs": [],
   "source": [
    "## apparently my sklearn is \"broken\" fucking nonsense#"
   ]
  },
  {
   "cell_type": "code",
   "execution_count": 46,
   "id": "architectural-surgery",
   "metadata": {},
   "outputs": [],
   "source": [
    "#sklearn.show_versions()\n"
   ]
  },
  {
   "cell_type": "code",
   "execution_count": 47,
   "id": "respective-motor",
   "metadata": {},
   "outputs": [],
   "source": [
    "#conda remove scikit-learn\n"
   ]
  },
  {
   "cell_type": "code",
   "execution_count": 48,
   "id": "iraqi-keeping",
   "metadata": {},
   "outputs": [],
   "source": [
    "#pip uninstall scikit-learn"
   ]
  },
  {
   "cell_type": "code",
   "execution_count": 50,
   "id": "dutch-exhibit",
   "metadata": {},
   "outputs": [],
   "source": [
    "#conda install scikit-learn ##SEEMS TO BE WORKING NOW? BRB"
   ]
  },
  {
   "cell_type": "code",
   "execution_count": 51,
   "id": "mysterious-america",
   "metadata": {},
   "outputs": [
    {
     "data": {
      "text/plain": [
       "<20763x180872 sparse matrix of type '<class 'numpy.int64'>'\n",
       "\twith 6919129 stored elements in Compressed Sparse Row format>"
      ]
     },
     "execution_count": 51,
     "metadata": {},
     "output_type": "execute_result"
    }
   ],
   "source": [
    "x_train"
   ]
  },
  {
   "cell_type": "code",
   "execution_count": 56,
   "id": "african-spirituality",
   "metadata": {},
   "outputs": [],
   "source": [
    "from sklearn.decomposition import TruncatedSVD"
   ]
  },
  {
   "cell_type": "code",
   "execution_count": 57,
   "id": "earlier-adaptation",
   "metadata": {},
   "outputs": [
    {
     "ename": "ValueError",
     "evalue": "could not convert string to float: 'In Coudersport, Pa. a town in a mountainous region an hour’s drive from the nearest Walmart, Cole Memorial Hospital counts on two Jordanian physicians to keep its obstetrics unit open and is actively recruiting foreign specialists. In Fargo, N. D. a gastroenterologist from Lebanon  —   who is among hundreds of foreign physicians in the state  —   has risen to become vice president of the North Dakota Medical Association. In Great Falls, Mont. 60 percent of the doctors who specialize in hospital care at Benefis Health System, which serves about 230, 000 people in 15 counties, are foreign doctors on work visas.   America relies on a steady flow of doctors from around the world to deliver babies, treat heart ailments and address its residents’ medical needs. But a recent,   decision by the government to alter the timetable for some visa applications is likely to delay the arrival of new foreign doctors, and is causing concern in the places that depend on them. While the Trump administration is fighting, in the courts of justice and public opinion, for its temporary travel ban affecting six countries, the slowdown in the rural doctor pipeline shows how even a small, relatively uncontroversial change can ripple throughout the country. In Montana, for example, where nine counties do not have a single physician, it means Benefis Health does not know when a Romanian doctor trained in kidney transplants will arrive. The health care company spent months recruiting the doctor and had been expecting her in July. “Our health system already has nine months invested in her, and now we have no idea when she can start,” said Erica Martin, who recruits doctors for the company. The doctor, Silviana Marineci, who is completing a fellowship at the University of Minnesota, said she was frazzled by being in limbo. “I won’t have an income, I don’t know if I will afford rent, I don’t know where I will be,” she said. “It’s insane. ” The procedural change regards temporary visas for skilled workers, known as   visas. United States Citizenship and Immigration Services recently announced that it would temporarily suspend a “premium processing” option by which employers could pay an extra $1, 225 to have   applications approved in as little as two weeks, rather than several months. Companies using that option, the government said, have effectively delayed visas for others who did not pay the extra fee. A spokeswoman for the immigration agency, Arwen Consaul, said in a statement that the measure was necessary to “work down the existing backlogs due to the high volume of incoming petitions. ” The   program has raised questions about whether it displaces American workers, particularly in computer programming and engineering jobs, for which most of the visas are issued.   recipients also include foreign physicians who practice in places shunned by American doctors for personal and professional reasons. About 25 percent of all physicians practicing or training in the United States are foreign, but in some inner cities and most rural areas, that share is significantly higher. There were 211, 460 international medical graduates practicing in the United States in December 2015, according to the latest data available from the Educational Commission for Foreign Medical Graduates. Senators Amy Klobuchar, a Minnesota Democrat Susan M. Collins, Republican of Maine and Heidi Heitkamp, Democrat of North Dakota, have urged the agency to continue premium processing. “Slowing down this successful    program and the doctors it brings to rural areas will hurt families across North Dakota and rural America,” Ms. Heitkamp wrote in an email. It was a North Dakota senator, Kent Conrad, who in 1994 proposed to relieve a shortage of doctors by tapping foreign physicians who have completed medical education in the United States. His program waives the requirement that foreign doctors who graduate from residency programs in the United States return to their home countries for two years before working here. It lures such graduates to practice in underserved areas by offering them the chance to apply for a green card to live permanently in the United States after three years. The program must be reauthorized by Congress every two years. Ms. Klobuchar, who twice has introduced legislation to make the program permanent, plans to do so again in the coming weeks. Since the program’s inception, tens of thousands of foreign physicians in a variety of specialties have flocked to clinics and hospitals in Appalachia, the Mississippi Delta region, the Great Plains and elsewhere. Many of them, such as Dr. Fadel E. Nammour, the vice president of the North Dakota Medical Association, put down roots and never leave. The friendliness that he found in Fargo reminded him of his home country, Dr. Nammour said. As a token of his gratitude, one of his first patients brought him a Styrofoam box filled with freshly caught walleye, a fish that thrives in the state’s lakes. “We provide not only the care but also our leadership,” said Dr. Nammour, who is now an American citizen. “The focus should be on making it easier to bring people in to cover the physician shortage we have. ” The delay also could affect the roughly 400 foreign medical graduates who come each year to participate in residency programs at teaching hospitals. The doctors were matched on Friday for residencies starting July 1 across the country. “Everyone around the country will be in a mad scramble to figure out this visa situation,” said Michelle   the director of international student and scholar services at the University of Colorado in Denver, which usually takes 10 or 12 residents on   each year at its Anschutz Medical Campus. The immigration agency said in a statement that applicants could still request an   approval on an “expedited basis,” if they could prove there was an emergency or humanitarian justification. Immigration lawyers said that it was extremely difficult to meet that standard, and that they doubted whether the agency could handle a flood of such requests. “If they don’t have the manpower to do premium processing, I don’t see how they are going to do special requests,” said Andrea Szew, a lawyer in Los Angeles. In the meantime, hospitals and clinics are adjusting to the possibility of being without some doctors for a while. Ms. Martin of Benefis Health said the hospital would have to give other doctors additional shifts or hire costly temporary physicians, who are frowned upon because they cannot develop a rapport with patients during their brief stints or provide continuity of care. Ms. Martin said Benefis Health was also recruiting other foreign physicians who could end up in the same situation as Dr. Marineci. “The most problematic thing is the unknown” about when the doctors can start, she said. Rom Satchi, a Canadian who completed his pediatric residency at the University of Illinois College of Medicine at Peoria, was invited for interviews at facilities in Alabama, Arkansas, Kansas, Pennsylvania and several other places desperate for a pediatrician. Ultimately, Dr. Satchi signed a contract with Mama Mia Pediatrics in northern Las Vegas, a   area that has been struggling to handle a swelling patient caseload. He agreed to start in  . But now, it is uncertain whether he will be able to get his visa in time. “At this point, I have no voice,” said Dr. Satchi, who plans to return to Canada and wait, jobless, until the visa is approved. “I can’t do anything. ”'",
     "output_type": "error",
     "traceback": [
      "\u001b[0;31m---------------------------------------------------------------------------\u001b[0m",
      "\u001b[0;31mValueError\u001b[0m                                Traceback (most recent call last)",
      "\u001b[0;32m/var/folders/wg/tzq4qwy97x3_999pctn35jlh0000gn/T/ipykernel_6442/3174099965.py\u001b[0m in \u001b[0;36m<module>\u001b[0;34m\u001b[0m\n\u001b[1;32m      1\u001b[0m \u001b[0msvd\u001b[0m \u001b[0;34m=\u001b[0m \u001b[0mTruncatedSVD\u001b[0m\u001b[0;34m(\u001b[0m\u001b[0;34m)\u001b[0m\u001b[0;34m\u001b[0m\u001b[0;34m\u001b[0m\u001b[0m\n\u001b[0;32m----> 2\u001b[0;31m \u001b[0mdata\u001b[0m \u001b[0;34m=\u001b[0m \u001b[0msvd\u001b[0m\u001b[0;34m.\u001b[0m\u001b[0mfit_transform\u001b[0m\u001b[0;34m(\u001b[0m\u001b[0mX_train\u001b[0m\u001b[0;34m)\u001b[0m\u001b[0;34m\u001b[0m\u001b[0;34m\u001b[0m\u001b[0m\n\u001b[0m",
      "\u001b[0;32m~/opt/anaconda3/lib/python3.7/site-packages/sklearn/decomposition/_truncated_svd.py\u001b[0m in \u001b[0;36mfit_transform\u001b[0;34m(self, X, y)\u001b[0m\n\u001b[1;32m    163\u001b[0m         \"\"\"\n\u001b[1;32m    164\u001b[0m         X = self._validate_data(X, accept_sparse=['csr', 'csc'],\n\u001b[0;32m--> 165\u001b[0;31m                                 ensure_min_features=2)\n\u001b[0m\u001b[1;32m    166\u001b[0m         \u001b[0mrandom_state\u001b[0m \u001b[0;34m=\u001b[0m \u001b[0mcheck_random_state\u001b[0m\u001b[0;34m(\u001b[0m\u001b[0mself\u001b[0m\u001b[0;34m.\u001b[0m\u001b[0mrandom_state\u001b[0m\u001b[0;34m)\u001b[0m\u001b[0;34m\u001b[0m\u001b[0;34m\u001b[0m\u001b[0m\n\u001b[1;32m    167\u001b[0m \u001b[0;34m\u001b[0m\u001b[0m\n",
      "\u001b[0;32m~/opt/anaconda3/lib/python3.7/site-packages/sklearn/base.py\u001b[0m in \u001b[0;36m_validate_data\u001b[0;34m(self, X, y, reset, validate_separately, **check_params)\u001b[0m\n\u001b[1;32m    419\u001b[0m             \u001b[0mout\u001b[0m \u001b[0;34m=\u001b[0m \u001b[0mX\u001b[0m\u001b[0;34m\u001b[0m\u001b[0;34m\u001b[0m\u001b[0m\n\u001b[1;32m    420\u001b[0m         \u001b[0;32melif\u001b[0m \u001b[0misinstance\u001b[0m\u001b[0;34m(\u001b[0m\u001b[0my\u001b[0m\u001b[0;34m,\u001b[0m \u001b[0mstr\u001b[0m\u001b[0;34m)\u001b[0m \u001b[0;32mand\u001b[0m \u001b[0my\u001b[0m \u001b[0;34m==\u001b[0m \u001b[0;34m'no_validation'\u001b[0m\u001b[0;34m:\u001b[0m\u001b[0;34m\u001b[0m\u001b[0;34m\u001b[0m\u001b[0m\n\u001b[0;32m--> 421\u001b[0;31m             \u001b[0mX\u001b[0m \u001b[0;34m=\u001b[0m \u001b[0mcheck_array\u001b[0m\u001b[0;34m(\u001b[0m\u001b[0mX\u001b[0m\u001b[0;34m,\u001b[0m \u001b[0;34m**\u001b[0m\u001b[0mcheck_params\u001b[0m\u001b[0;34m)\u001b[0m\u001b[0;34m\u001b[0m\u001b[0;34m\u001b[0m\u001b[0m\n\u001b[0m\u001b[1;32m    422\u001b[0m             \u001b[0mout\u001b[0m \u001b[0;34m=\u001b[0m \u001b[0mX\u001b[0m\u001b[0;34m\u001b[0m\u001b[0;34m\u001b[0m\u001b[0m\n\u001b[1;32m    423\u001b[0m         \u001b[0;32melse\u001b[0m\u001b[0;34m:\u001b[0m\u001b[0;34m\u001b[0m\u001b[0;34m\u001b[0m\u001b[0m\n",
      "\u001b[0;32m~/opt/anaconda3/lib/python3.7/site-packages/sklearn/utils/validation.py\u001b[0m in \u001b[0;36minner_f\u001b[0;34m(*args, **kwargs)\u001b[0m\n\u001b[1;32m     61\u001b[0m             \u001b[0mextra_args\u001b[0m \u001b[0;34m=\u001b[0m \u001b[0mlen\u001b[0m\u001b[0;34m(\u001b[0m\u001b[0margs\u001b[0m\u001b[0;34m)\u001b[0m \u001b[0;34m-\u001b[0m \u001b[0mlen\u001b[0m\u001b[0;34m(\u001b[0m\u001b[0mall_args\u001b[0m\u001b[0;34m)\u001b[0m\u001b[0;34m\u001b[0m\u001b[0;34m\u001b[0m\u001b[0m\n\u001b[1;32m     62\u001b[0m             \u001b[0;32mif\u001b[0m \u001b[0mextra_args\u001b[0m \u001b[0;34m<=\u001b[0m \u001b[0;36m0\u001b[0m\u001b[0;34m:\u001b[0m\u001b[0;34m\u001b[0m\u001b[0;34m\u001b[0m\u001b[0m\n\u001b[0;32m---> 63\u001b[0;31m                 \u001b[0;32mreturn\u001b[0m \u001b[0mf\u001b[0m\u001b[0;34m(\u001b[0m\u001b[0;34m*\u001b[0m\u001b[0margs\u001b[0m\u001b[0;34m,\u001b[0m \u001b[0;34m**\u001b[0m\u001b[0mkwargs\u001b[0m\u001b[0;34m)\u001b[0m\u001b[0;34m\u001b[0m\u001b[0;34m\u001b[0m\u001b[0m\n\u001b[0m\u001b[1;32m     64\u001b[0m \u001b[0;34m\u001b[0m\u001b[0m\n\u001b[1;32m     65\u001b[0m             \u001b[0;31m# extra_args > 0\u001b[0m\u001b[0;34m\u001b[0m\u001b[0;34m\u001b[0m\u001b[0;34m\u001b[0m\u001b[0m\n",
      "\u001b[0;32m~/opt/anaconda3/lib/python3.7/site-packages/sklearn/utils/validation.py\u001b[0m in \u001b[0;36mcheck_array\u001b[0;34m(array, accept_sparse, accept_large_sparse, dtype, order, copy, force_all_finite, ensure_2d, allow_nd, ensure_min_samples, ensure_min_features, estimator)\u001b[0m\n\u001b[1;32m    671\u001b[0m                     \u001b[0marray\u001b[0m \u001b[0;34m=\u001b[0m \u001b[0marray\u001b[0m\u001b[0;34m.\u001b[0m\u001b[0mastype\u001b[0m\u001b[0;34m(\u001b[0m\u001b[0mdtype\u001b[0m\u001b[0;34m,\u001b[0m \u001b[0mcasting\u001b[0m\u001b[0;34m=\u001b[0m\u001b[0;34m\"unsafe\"\u001b[0m\u001b[0;34m,\u001b[0m \u001b[0mcopy\u001b[0m\u001b[0;34m=\u001b[0m\u001b[0;32mFalse\u001b[0m\u001b[0;34m)\u001b[0m\u001b[0;34m\u001b[0m\u001b[0;34m\u001b[0m\u001b[0m\n\u001b[1;32m    672\u001b[0m                 \u001b[0;32melse\u001b[0m\u001b[0;34m:\u001b[0m\u001b[0;34m\u001b[0m\u001b[0;34m\u001b[0m\u001b[0m\n\u001b[0;32m--> 673\u001b[0;31m                     \u001b[0marray\u001b[0m \u001b[0;34m=\u001b[0m \u001b[0mnp\u001b[0m\u001b[0;34m.\u001b[0m\u001b[0masarray\u001b[0m\u001b[0;34m(\u001b[0m\u001b[0marray\u001b[0m\u001b[0;34m,\u001b[0m \u001b[0morder\u001b[0m\u001b[0;34m=\u001b[0m\u001b[0morder\u001b[0m\u001b[0;34m,\u001b[0m \u001b[0mdtype\u001b[0m\u001b[0;34m=\u001b[0m\u001b[0mdtype\u001b[0m\u001b[0;34m)\u001b[0m\u001b[0;34m\u001b[0m\u001b[0;34m\u001b[0m\u001b[0m\n\u001b[0m\u001b[1;32m    674\u001b[0m             \u001b[0;32mexcept\u001b[0m \u001b[0mComplexWarning\u001b[0m \u001b[0;32mas\u001b[0m \u001b[0mcomplex_warning\u001b[0m\u001b[0;34m:\u001b[0m\u001b[0;34m\u001b[0m\u001b[0;34m\u001b[0m\u001b[0m\n\u001b[1;32m    675\u001b[0m                 raise ValueError(\"Complex data not supported\\n\"\n",
      "\u001b[0;32m~/opt/anaconda3/lib/python3.7/site-packages/numpy/core/_asarray.py\u001b[0m in \u001b[0;36masarray\u001b[0;34m(a, dtype, order, like)\u001b[0m\n\u001b[1;32m    100\u001b[0m         \u001b[0;32mreturn\u001b[0m \u001b[0m_asarray_with_like\u001b[0m\u001b[0;34m(\u001b[0m\u001b[0ma\u001b[0m\u001b[0;34m,\u001b[0m \u001b[0mdtype\u001b[0m\u001b[0;34m=\u001b[0m\u001b[0mdtype\u001b[0m\u001b[0;34m,\u001b[0m \u001b[0morder\u001b[0m\u001b[0;34m=\u001b[0m\u001b[0morder\u001b[0m\u001b[0;34m,\u001b[0m \u001b[0mlike\u001b[0m\u001b[0;34m=\u001b[0m\u001b[0mlike\u001b[0m\u001b[0;34m)\u001b[0m\u001b[0;34m\u001b[0m\u001b[0;34m\u001b[0m\u001b[0m\n\u001b[1;32m    101\u001b[0m \u001b[0;34m\u001b[0m\u001b[0m\n\u001b[0;32m--> 102\u001b[0;31m     \u001b[0;32mreturn\u001b[0m \u001b[0marray\u001b[0m\u001b[0;34m(\u001b[0m\u001b[0ma\u001b[0m\u001b[0;34m,\u001b[0m \u001b[0mdtype\u001b[0m\u001b[0;34m,\u001b[0m \u001b[0mcopy\u001b[0m\u001b[0;34m=\u001b[0m\u001b[0;32mFalse\u001b[0m\u001b[0;34m,\u001b[0m \u001b[0morder\u001b[0m\u001b[0;34m=\u001b[0m\u001b[0morder\u001b[0m\u001b[0;34m)\u001b[0m\u001b[0;34m\u001b[0m\u001b[0;34m\u001b[0m\u001b[0m\n\u001b[0m\u001b[1;32m    103\u001b[0m \u001b[0;34m\u001b[0m\u001b[0m\n\u001b[1;32m    104\u001b[0m \u001b[0;34m\u001b[0m\u001b[0m\n",
      "\u001b[0;32m~/opt/anaconda3/lib/python3.7/site-packages/pandas/core/series.py\u001b[0m in \u001b[0;36m__array__\u001b[0;34m(self, dtype)\u001b[0m\n\u001b[1;32m    855\u001b[0m               dtype='datetime64[ns]')\n\u001b[1;32m    856\u001b[0m         \"\"\"\n\u001b[0;32m--> 857\u001b[0;31m         \u001b[0;32mreturn\u001b[0m \u001b[0mnp\u001b[0m\u001b[0;34m.\u001b[0m\u001b[0masarray\u001b[0m\u001b[0;34m(\u001b[0m\u001b[0mself\u001b[0m\u001b[0;34m.\u001b[0m\u001b[0m_values\u001b[0m\u001b[0;34m,\u001b[0m \u001b[0mdtype\u001b[0m\u001b[0;34m)\u001b[0m\u001b[0;34m\u001b[0m\u001b[0;34m\u001b[0m\u001b[0m\n\u001b[0m\u001b[1;32m    858\u001b[0m \u001b[0;34m\u001b[0m\u001b[0m\n\u001b[1;32m    859\u001b[0m     \u001b[0;31m# ----------------------------------------------------------------------\u001b[0m\u001b[0;34m\u001b[0m\u001b[0;34m\u001b[0m\u001b[0;34m\u001b[0m\u001b[0m\n",
      "\u001b[0;32m~/opt/anaconda3/lib/python3.7/site-packages/numpy/core/_asarray.py\u001b[0m in \u001b[0;36masarray\u001b[0;34m(a, dtype, order, like)\u001b[0m\n\u001b[1;32m    100\u001b[0m         \u001b[0;32mreturn\u001b[0m \u001b[0m_asarray_with_like\u001b[0m\u001b[0;34m(\u001b[0m\u001b[0ma\u001b[0m\u001b[0;34m,\u001b[0m \u001b[0mdtype\u001b[0m\u001b[0;34m=\u001b[0m\u001b[0mdtype\u001b[0m\u001b[0;34m,\u001b[0m \u001b[0morder\u001b[0m\u001b[0;34m=\u001b[0m\u001b[0morder\u001b[0m\u001b[0;34m,\u001b[0m \u001b[0mlike\u001b[0m\u001b[0;34m=\u001b[0m\u001b[0mlike\u001b[0m\u001b[0;34m)\u001b[0m\u001b[0;34m\u001b[0m\u001b[0;34m\u001b[0m\u001b[0m\n\u001b[1;32m    101\u001b[0m \u001b[0;34m\u001b[0m\u001b[0m\n\u001b[0;32m--> 102\u001b[0;31m     \u001b[0;32mreturn\u001b[0m \u001b[0marray\u001b[0m\u001b[0;34m(\u001b[0m\u001b[0ma\u001b[0m\u001b[0;34m,\u001b[0m \u001b[0mdtype\u001b[0m\u001b[0;34m,\u001b[0m \u001b[0mcopy\u001b[0m\u001b[0;34m=\u001b[0m\u001b[0;32mFalse\u001b[0m\u001b[0;34m,\u001b[0m \u001b[0morder\u001b[0m\u001b[0;34m=\u001b[0m\u001b[0morder\u001b[0m\u001b[0;34m)\u001b[0m\u001b[0;34m\u001b[0m\u001b[0;34m\u001b[0m\u001b[0m\n\u001b[0m\u001b[1;32m    103\u001b[0m \u001b[0;34m\u001b[0m\u001b[0m\n\u001b[1;32m    104\u001b[0m \u001b[0;34m\u001b[0m\u001b[0m\n",
      "\u001b[0;31mValueError\u001b[0m: could not convert string to float: 'In Coudersport, Pa. a town in a mountainous region an hour’s drive from the nearest Walmart, Cole Memorial Hospital counts on two Jordanian physicians to keep its obstetrics unit open and is actively recruiting foreign specialists. In Fargo, N. D. a gastroenterologist from Lebanon  —   who is among hundreds of foreign physicians in the state  —   has risen to become vice president of the North Dakota Medical Association. In Great Falls, Mont. 60 percent of the doctors who specialize in hospital care at Benefis Health System, which serves about 230, 000 people in 15 counties, are foreign doctors on work visas.   America relies on a steady flow of doctors from around the world to deliver babies, treat heart ailments and address its residents’ medical needs. But a recent,   decision by the government to alter the timetable for some visa applications is likely to delay the arrival of new foreign doctors, and is causing concern in the places that depend on them. While the Trump administration is fighting, in the courts of justice and public opinion, for its temporary travel ban affecting six countries, the slowdown in the rural doctor pipeline shows how even a small, relatively uncontroversial change can ripple throughout the country. In Montana, for example, where nine counties do not have a single physician, it means Benefis Health does not know when a Romanian doctor trained in kidney transplants will arrive. The health care company spent months recruiting the doctor and had been expecting her in July. “Our health system already has nine months invested in her, and now we have no idea when she can start,” said Erica Martin, who recruits doctors for the company. The doctor, Silviana Marineci, who is completing a fellowship at the University of Minnesota, said she was frazzled by being in limbo. “I won’t have an income, I don’t know if I will afford rent, I don’t know where I will be,” she said. “It’s insane. ” The procedural change regards temporary visas for skilled workers, known as   visas. United States Citizenship and Immigration Services recently announced that it would temporarily suspend a “premium processing” option by which employers could pay an extra $1, 225 to have   applications approved in as little as two weeks, rather than several months. Companies using that option, the government said, have effectively delayed visas for others who did not pay the extra fee. A spokeswoman for the immigration agency, Arwen Consaul, said in a statement that the measure was necessary to “work down the existing backlogs due to the high volume of incoming petitions. ” The   program has raised questions about whether it displaces American workers, particularly in computer programming and engineering jobs, for which most of the visas are issued.   recipients also include foreign physicians who practice in places shunned by American doctors for personal and professional reasons. About 25 percent of all physicians practicing or training in the United States are foreign, but in some inner cities and most rural areas, that share is significantly higher. There were 211, 460 international medical graduates practicing in the United States in December 2015, according to the latest data available from the Educational Commission for Foreign Medical Graduates. Senators Amy Klobuchar, a Minnesota Democrat Susan M. Collins, Republican of Maine and Heidi Heitkamp, Democrat of North Dakota, have urged the agency to continue premium processing. “Slowing down this successful    program and the doctors it brings to rural areas will hurt families across North Dakota and rural America,” Ms. Heitkamp wrote in an email. It was a North Dakota senator, Kent Conrad, who in 1994 proposed to relieve a shortage of doctors by tapping foreign physicians who have completed medical education in the United States. His program waives the requirement that foreign doctors who graduate from residency programs in the United States return to their home countries for two years before working here. It lures such graduates to practice in underserved areas by offering them the chance to apply for a green card to live permanently in the United States after three years. The program must be reauthorized by Congress every two years. Ms. Klobuchar, who twice has introduced legislation to make the program permanent, plans to do so again in the coming weeks. Since the program’s inception, tens of thousands of foreign physicians in a variety of specialties have flocked to clinics and hospitals in Appalachia, the Mississippi Delta region, the Great Plains and elsewhere. Many of them, such as Dr. Fadel E. Nammour, the vice president of the North Dakota Medical Association, put down roots and never leave. The friendliness that he found in Fargo reminded him of his home country, Dr. Nammour said. As a token of his gratitude, one of his first patients brought him a Styrofoam box filled with freshly caught walleye, a fish that thrives in the state’s lakes. “We provide not only the care but also our leadership,” said Dr. Nammour, who is now an American citizen. “The focus should be on making it easier to bring people in to cover the physician shortage we have. ” The delay also could affect the roughly 400 foreign medical graduates who come each year to participate in residency programs at teaching hospitals. The doctors were matched on Friday for residencies starting July 1 across the country. “Everyone around the country will be in a mad scramble to figure out this visa situation,” said Michelle   the director of international student and scholar services at the University of Colorado in Denver, which usually takes 10 or 12 residents on   each year at its Anschutz Medical Campus. The immigration agency said in a statement that applicants could still request an   approval on an “expedited basis,” if they could prove there was an emergency or humanitarian justification. Immigration lawyers said that it was extremely difficult to meet that standard, and that they doubted whether the agency could handle a flood of such requests. “If they don’t have the manpower to do premium processing, I don’t see how they are going to do special requests,” said Andrea Szew, a lawyer in Los Angeles. In the meantime, hospitals and clinics are adjusting to the possibility of being without some doctors for a while. Ms. Martin of Benefis Health said the hospital would have to give other doctors additional shifts or hire costly temporary physicians, who are frowned upon because they cannot develop a rapport with patients during their brief stints or provide continuity of care. Ms. Martin said Benefis Health was also recruiting other foreign physicians who could end up in the same situation as Dr. Marineci. “The most problematic thing is the unknown” about when the doctors can start, she said. Rom Satchi, a Canadian who completed his pediatric residency at the University of Illinois College of Medicine at Peoria, was invited for interviews at facilities in Alabama, Arkansas, Kansas, Pennsylvania and several other places desperate for a pediatrician. Ultimately, Dr. Satchi signed a contract with Mama Mia Pediatrics in northern Las Vegas, a   area that has been struggling to handle a swelling patient caseload. He agreed to start in  . But now, it is uncertain whether he will be able to get his visa in time. “At this point, I have no voice,” said Dr. Satchi, who plans to return to Canada and wait, jobless, until the visa is approved. “I can’t do anything. ”'"
     ]
    }
   ],
   "source": [
    "svd = TruncatedSVD()\n",
    "data = svd.fit_transform(X_train) "
   ]
  },
  {
   "cell_type": "code",
   "execution_count": 55,
   "id": "descending-norway",
   "metadata": {},
   "outputs": [
    {
     "data": {
      "text/plain": [
       "'0.24.2'"
      ]
     },
     "execution_count": 55,
     "metadata": {},
     "output_type": "execute_result"
    }
   ],
   "source": [
    "sklearn.__version__"
   ]
  },
  {
   "cell_type": "code",
   "execution_count": 63,
   "id": "civil-lemon",
   "metadata": {},
   "outputs": [
    {
     "data": {
      "text/plain": [
       "LinearSVC()"
      ]
     },
     "execution_count": 63,
     "metadata": {},
     "output_type": "execute_result"
    }
   ],
   "source": [
    "LinearSVC()"
   ]
  },
  {
   "cell_type": "code",
   "execution_count": 58,
   "id": "noble-console",
   "metadata": {
    "scrolled": true
   },
   "outputs": [
    {
     "ename": "NameError",
     "evalue": "name 'GridSearchCV' is not defined",
     "output_type": "error",
     "traceback": [
      "\u001b[0;31m---------------------------------------------------------------------------\u001b[0m",
      "\u001b[0;31mNameError\u001b[0m                                 Traceback (most recent call last)",
      "\u001b[0;32m/var/folders/wg/tzq4qwy97x3_999pctn35jlh0000gn/T/ipykernel_2188/3997969706.py\u001b[0m in \u001b[0;36m<module>\u001b[0;34m\u001b[0m\n\u001b[1;32m      3\u001b[0m               } \n\u001b[1;32m      4\u001b[0m \u001b[0;34m\u001b[0m\u001b[0m\n\u001b[0;32m----> 5\u001b[0;31m \u001b[0mgrid\u001b[0m \u001b[0;34m=\u001b[0m \u001b[0mGridSearchCV\u001b[0m\u001b[0;34m(\u001b[0m\u001b[0mLinearSVC\u001b[0m\u001b[0;34m(\u001b[0m\u001b[0;34m)\u001b[0m\u001b[0;34m,\u001b[0m \u001b[0mparam_grid\u001b[0m\u001b[0;34m,\u001b[0m \u001b[0mrefit\u001b[0m \u001b[0;34m=\u001b[0m \u001b[0;32mTrue\u001b[0m\u001b[0;34m,\u001b[0m \u001b[0mverbose\u001b[0m \u001b[0;34m=\u001b[0m \u001b[0;36m3\u001b[0m\u001b[0;34m)\u001b[0m\u001b[0;34m\u001b[0m\u001b[0;34m\u001b[0m\u001b[0m\n\u001b[0m\u001b[1;32m      6\u001b[0m \u001b[0;34m\u001b[0m\u001b[0m\n\u001b[1;32m      7\u001b[0m \u001b[0;31m# fitting the model for grid search\u001b[0m\u001b[0;34m\u001b[0m\u001b[0;34m\u001b[0m\u001b[0;34m\u001b[0m\u001b[0m\n",
      "\u001b[0;31mNameError\u001b[0m: name 'GridSearchCV' is not defined"
     ]
    }
   ],
   "source": [
    "# defining parameter range\n",
    "param_grid = {'penalty' : ['l1', 'l2']\n",
    "              } \n",
    "  \n",
    "grid = GridSearchCV(LinearSVC(), param_grid, refit = True, verbose = 3)\n",
    "  \n",
    "# fitting the model for grid search\n",
    "grid.fit(x_train, y_train)"
   ]
  },
  {
   "cell_type": "code",
   "execution_count": 57,
   "id": "instructional-piano",
   "metadata": {},
   "outputs": [
    {
     "ename": "NameError",
     "evalue": "name 'grid' is not defined",
     "output_type": "error",
     "traceback": [
      "\u001b[0;31m---------------------------------------------------------------------------\u001b[0m",
      "\u001b[0;31mNameError\u001b[0m                                 Traceback (most recent call last)",
      "\u001b[0;32m/var/folders/wg/tzq4qwy97x3_999pctn35jlh0000gn/T/ipykernel_2188/682433489.py\u001b[0m in \u001b[0;36m<module>\u001b[0;34m\u001b[0m\n\u001b[0;32m----> 1\u001b[0;31m \u001b[0mgrid\u001b[0m\u001b[0;34m.\u001b[0m\u001b[0mbest_params\u001b[0m\u001b[0;34m(\u001b[0m\u001b[0;34m)\u001b[0m\u001b[0;34m\u001b[0m\u001b[0;34m\u001b[0m\u001b[0m\n\u001b[0m",
      "\u001b[0;31mNameError\u001b[0m: name 'grid' is not defined"
     ]
    }
   ],
   "source": [
    "grid.best_params()"
   ]
  },
  {
   "cell_type": "code",
   "execution_count": 67,
   "id": "random-moses",
   "metadata": {},
   "outputs": [
    {
     "data": {
      "text/plain": [
       "<20763x180872 sparse matrix of type '<class 'numpy.int64'>'\n",
       "\twith 6919129 stored elements in Compressed Sparse Row format>"
      ]
     },
     "execution_count": 67,
     "metadata": {},
     "output_type": "execute_result"
    }
   ],
   "source": [
    "x_train"
   ]
  },
  {
   "cell_type": "code",
   "execution_count": 68,
   "id": "latin-victoria",
   "metadata": {},
   "outputs": [
    {
     "name": "stdout",
     "output_type": "stream",
     "text": [
      "  (0, 68796)\t46\n",
      "  (0, 33080)\t1\n",
      "  (0, 102181)\t1\n",
      "  (0, 140979)\t1\n",
      "  (0, 92830)\t1\n",
      "  (0, 115914)\t2\n",
      "  (0, 9143)\t8\n",
      "  (0, 66213)\t1\n",
      "  (0, 42729)\t1\n",
      "  (0, 54923)\t5\n",
      "  (0, 138698)\t71\n",
      "  (0, 95443)\t1\n",
      "  (0, 150168)\t1\n",
      "  (0, 29597)\t1\n",
      "  (0, 88680)\t1\n",
      "  (0, 66093)\t3\n",
      "  (0, 33268)\t1\n",
      "  (0, 99947)\t8\n",
      "  (0, 143328)\t4\n",
      "  (0, 74223)\t1\n",
      "  (0, 106012)\t8\n",
      "  (0, 140143)\t33\n",
      "  (0, 76136)\t1\n",
      "  (0, 72308)\t4\n",
      "  (0, 98903)\t1\n",
      "  :\t:\n",
      "  (20762, 39124)\t1\n",
      "  (20762, 125088)\t1\n",
      "  (20762, 133264)\t1\n",
      "  (20762, 35690)\t1\n",
      "  (20762, 31169)\t1\n",
      "  (20762, 148664)\t1\n",
      "  (20762, 151773)\t1\n",
      "  (20762, 53263)\t1\n",
      "  (20762, 18986)\t1\n",
      "  (20762, 27335)\t1\n",
      "  (20762, 151293)\t1\n",
      "  (20762, 88662)\t1\n",
      "  (20762, 88699)\t1\n",
      "  (20762, 80677)\t1\n",
      "  (20762, 138300)\t1\n",
      "  (20762, 149330)\t1\n",
      "  (20762, 135751)\t1\n",
      "  (20762, 109175)\t1\n",
      "  (20762, 148052)\t1\n",
      "  (20762, 27339)\t1\n",
      "  (20762, 31060)\t1\n",
      "  (20762, 20993)\t1\n",
      "  (20762, 93210)\t1\n",
      "  (20762, 23543)\t9\n",
      "  (20762, 37700)\t1\n"
     ]
    }
   ],
   "source": [
    "print(x_train)"
   ]
  },
  {
   "cell_type": "code",
   "execution_count": 74,
   "id": "freelance-feeling",
   "metadata": {},
   "outputs": [
    {
     "data": {
      "text/plain": [
       "scipy.sparse.csr.csr_matrix"
      ]
     },
     "execution_count": 74,
     "metadata": {},
     "output_type": "execute_result"
    }
   ],
   "source": [
    "type(x_train)"
   ]
  },
  {
   "cell_type": "code",
   "execution_count": 75,
   "id": "unlikely-distributor",
   "metadata": {},
   "outputs": [],
   "source": [
    "#matty gridsearch##"
   ]
  },
  {
   "cell_type": "code",
   "execution_count": null,
   "id": "drawn-liver",
   "metadata": {},
   "outputs": [],
   "source": [
    "{\n",
    "'penalty'            : ['l1, l2'], \n",
    "'loss'               : ['hinge', 'squared_hinge'],\n",
    "'dual'               : [True, False],\n",
    "'C'                  : [np.around(np.linspace(0,1,10), 2)],\n",
    "'std_test_score'     : [0.01, 0.10, 0.05, 0.08],\n",
    "'rank_test_score'    : [2, 4, 3, 1],\n",
    "'split0_train_score' : [0.80, 0.92, 0.70, 0.93],\n",
    "'split1_train_score' : [0.82, 0.55, 0.70, 0.87],\n",
    "'mean_train_score'   : [0.81, 0.74, 0.70, 0.90],\n",
    "'std_train_score'    : [0.01, 0.19, 0.00, 0.03],\n",
    "'mean_fit_time'      : [0.73, 0.63, 0.43, 0.49],\n",
    "'std_fit_time'       : [0.01, 0.02, 0.01, 0.01],\n",
    "'mean_score_time'    : [0.01, 0.06, 0.04, 0.04],\n",
    "'std_score_time'     : [0.00, 0.00, 0.00, 0.01],\n",
    "'params'             : [{'kernel': 'poly', 'degree': 2}, ...],\n",
    "}"
   ]
  },
  {
   "cell_type": "code",
   "execution_count": 80,
   "id": "innocent-transcript",
   "metadata": {},
   "outputs": [
    {
     "data": {
      "text/plain": [
       "array([0.  , 0.11, 0.22, 0.33, 0.44, 0.56, 0.67, 0.78, 0.89, 1.  ])"
      ]
     },
     "execution_count": 80,
     "metadata": {},
     "output_type": "execute_result"
    }
   ],
   "source": [
    "np.around(np.linspace(0,1,10), 2)\n",
    "\n"
   ]
  },
  {
   "cell_type": "code",
   "execution_count": 82,
   "id": "bizarre-little",
   "metadata": {},
   "outputs": [
    {
     "name": "stderr",
     "output_type": "stream",
     "text": [
      "/Users/MBest/opt/anaconda3/lib/python3.7/site-packages/sklearn/svm/_base.py:986: ConvergenceWarning: Liblinear failed to converge, increase the number of iterations.\n",
      "  \"the number of iterations.\", ConvergenceWarning)\n"
     ]
    },
    {
     "name": "stdout",
     "output_type": "stream",
     "text": [
      "accuracy:   88.538\n"
     ]
    },
    {
     "data": {
      "image/png": "[encoded data removed]",
      "text/plain": [
       "<Figure size 432x288 with 2 Axes>"
      ]
     },
     "metadata": {
      "needs_background": "light"
     },
     "output_type": "display_data"
    }
   ],
   "source": [
    "#SVM\n",
    "#from sklearn.svm import LinearSVC\n",
    "\n",
    "pipe = Pipeline([\n",
    "    ('vect', CountVectorizer()),\n",
    "    ('tfidf', TfidfTransformer()),\n",
    "    ('clf', LinearSVC(loss='hinge'))\n",
    "])\n",
    "\n",
    "model = pipe.fit(X_train, y_train)\n",
    "prediction = model.predict(X_test)\n",
    "\n",
    "score = metrics.accuracy_score(y_test, prediction)\n",
    "print(\"accuracy:   %0.3f\" % (score*100))\n",
    "cm = metrics.confusion_matrix(y_test, prediction, labels=[0, 1])\n",
    "\n",
    "\n",
    "\n",
    "fig, ax = plot_confusion_matrix(conf_mat=confusion_matrix(y_test, prediction),\n",
    "                                show_absolute=True,\n",
    "                                show_normed=True,\n",
    "                              colorbar=True)\n",
    "plt.title(\"Linear SVM\")\n",
    "plt.show()"
   ]
  },
  {
   "cell_type": "code",
   "execution_count": 78,
   "id": "disturbed-invasion",
   "metadata": {},
   "outputs": [
    {
     "name": "stderr",
     "output_type": "stream",
     "text": [
      "/Users/MBest/opt/anaconda3/lib/python3.7/site-packages/sklearn/svm/_base.py:986: ConvergenceWarning: Liblinear failed to converge, increase the number of iterations.\n",
      "  \"the number of iterations.\", ConvergenceWarning)\n"
     ]
    },
    {
     "name": "stdout",
     "output_type": "stream",
     "text": [
      "accuracy:   89.058\n"
     ]
    },
    {
     "data": {
      "image/png": "[encoded data removed]",
      "text/plain": [
       "<Figure size 432x288 with 2 Axes>"
      ]
     },
     "metadata": {
      "needs_background": "light"
     },
     "output_type": "display_data"
    }
   ],
   "source": [
    "#SVM\n",
    "#from sklearn.svm import LinearSVC\n",
    "\n",
    "pipe = Pipeline([\n",
    "    ('vect', CountVectorizer()),\n",
    "    ('tfidf', TfidfTransformer()),\n",
    "    ('clf', LinearSVC(loss='hinge'))\n",
    "])\n",
    "\n",
    "model = pipe.fit(X_train, y_train)\n",
    "prediction = model.predict(X_test)\n",
    "\n",
    "score = metrics.accuracy_score(y_test, prediction)\n",
    "print(\"accuracy:   %0.3f\" % (score*100))\n",
    "cm = metrics.confusion_matrix(y_test, prediction, labels=[0, 1])\n",
    "\n",
    "\n",
    "\n",
    "fig, ax = plot_confusion_matrix(conf_mat=confusion_matrix(y_test, prediction),\n",
    "                                show_absolute=True,\n",
    "                                show_normed=True,\n",
    "                              colorbar=True)\n",
    "plt.title(\"Linear SVM\")\n",
    "plt.show()"
   ]
  },
  {
   "cell_type": "code",
   "execution_count": 50,
   "id": "motivated-tiffany",
   "metadata": {},
   "outputs": [
    {
     "data": {
      "text/plain": [
       "0    U.S. Responds To Rising Sea Levels By Patting ...\n",
       "1    Subway CEO Apologizes For Trusting Fish Who Fa...\n",
       "dtype: object"
      ]
     },
     "execution_count": 50,
     "metadata": {},
     "output_type": "execute_result"
    }
   ],
   "source": [
    "onions"
   ]
  },
  {
   "cell_type": "code",
   "execution_count": 48,
   "id": "16325285",
   "metadata": {},
   "outputs": [
    {
     "data": {
      "text/plain": [
       "'Subway CEO Apologizes For Trusting Fish Who Falsified Documents To Pass As Tuna. MILFORD, CT—Addressing recent questions about the integrity of ingredients in one of the chain’s most popular sandwiches, Subway CEO John Chidsey issued a formal apology Thursday for trusting a fish who allegedly submitted false documents to the restaurant in order to pass as a tuna. “Subway has always prided itself on thoroughly vetting anyone who will represent our brand, but we failed you this time, placing our trust in what turned out to be a common carp,” said Chidsey, adding that while the fish in question went through several rounds of vigorous interviews before it was brought onto the team, its fraudulent credentials claiming membership in the Thunnus albacares species were never questioned. “Though we, too, are victims in this situation, ultimately the onus was on us to more closely examine this candidate’s purported background as a yellowfin tuna. In our defense, the paperwork was all there, we simply failed to do our due diligence and check this fish’s references. Perhaps if we had, we would not have been taken in by this duplicitous carp. We just got mixed up with the wrong fish, that’s all.” Chidsey went on to address allegations regarding the role the carp played in his personal life, acknowledging the two had carried on a consensual, extramarital affair during the fish’s brief tenure at the company.\\n'"
      ]
     },
     "execution_count": 48,
     "metadata": {},
     "output_type": "execute_result"
    }
   ],
   "source": [
    "onion2"
   ]
  },
  {
   "cell_type": "code",
   "execution_count": 60,
   "id": "94a7efe3",
   "metadata": {},
   "outputs": [],
   "source": [
    "# >>> from sklearn.feature_extraction.text import TfidfVectorizer\n",
    "# >>> corpus = [\n",
    "# ...     'This is the first document.',\n",
    "# ...     'This document is the second document.',\n",
    "# ...     'And this is the third one.',\n",
    "# ...     'Is this the first document?',\n",
    "# ... ]\n",
    "# >>> vectorizer = TfidfVectorizer()\n",
    "# >>> X = vectorizer.fit_transform(corpus)\n",
    "# >>> print(vectorizer.get_feature_names())\n",
    "# ['and', 'document', 'first', 'is', 'one', 'second', 'the', 'third', 'this']\n",
    "# >>> print(X.shape)\n",
    "# (4, 9)"
   ]
  },
  {
   "cell_type": "code",
   "execution_count": 61,
   "id": "d4955800",
   "metadata": {},
   "outputs": [],
   "source": [
    "from sklearn.feature_extraction.text import TfidfVectorizer"
   ]
  },
  {
   "cell_type": "code",
   "execution_count": 62,
   "id": "96087a09",
   "metadata": {},
   "outputs": [],
   "source": [
    "corpus = articles"
   ]
  },
  {
   "cell_type": "code",
   "execution_count": 65,
   "id": "b3a617a7",
   "metadata": {},
   "outputs": [],
   "source": [
    "vec = TfidfVectorizer()"
   ]
  },
  {
   "cell_type": "code",
   "execution_count": 71,
   "id": "1f8abb8c",
   "metadata": {},
   "outputs": [],
   "source": [
    "PPP = vec.fit_transform(corpus['text'])"
   ]
  },
  {
   "cell_type": "code",
   "execution_count": 72,
   "id": "e0ca948d",
   "metadata": {},
   "outputs": [
    {
     "data": {
      "text/plain": [
       "<25954x202969 sparse matrix of type '<class 'numpy.float64'>'\n",
       "\twith 8615798 stored elements in Compressed Sparse Row format>"
      ]
     },
     "execution_count": 72,
     "metadata": {},
     "output_type": "execute_result"
    }
   ],
   "source": [
    "PPP"
   ]
  },
  {
   "cell_type": "code",
   "execution_count": 73,
   "id": "082b0362",
   "metadata": {},
   "outputs": [
    {
     "data": {
      "text/plain": [
       "['00',\n",
       " '000',\n",
       " '0000',\n",
       " '000035',\n",
       " '0000364334',\n",
       " '0001',\n",
       " '00012',\n",
       " '0001pt',\n",
       " '0002',\n",
       " '000202',\n",
       " '000205',\n",
       " '0002062',\n",
       " '000billion',\n",
       " '000c',\n",
       " '000emails',\n",
       " '000ft',\n",
       " '000k',\n",
       " '000km',\n",
       " '000lb',\n",
       " '000m',\n",
       " '000mg',\n",
       " '000s',\n",
       " '000th',\n",
       " '000â',\n",
       " '001',\n",
       " '0011',\n",
       " '0012',\n",
       " '001219074822',\n",
       " '0013',\n",
       " '002',\n",
       " '0020143',\n",
       " '0023z',\n",
       " '0024',\n",
       " '003',\n",
       " '0036',\n",
       " '004',\n",
       " '004s',\n",
       " '005',\n",
       " '0054z',\n",
       " '0057',\n",
       " '005s',\n",
       " '006',\n",
       " '00684',\n",
       " '006s',\n",
       " '007',\n",
       " '007176',\n",
       " '007s',\n",
       " '008',\n",
       " '008s',\n",
       " '009',\n",
       " '0099',\n",
       " '00am',\n",
       " '00archive',\n",
       " '00o',\n",
       " '00p',\n",
       " '00pm',\n",
       " '00s',\n",
       " '00μg',\n",
       " '01',\n",
       " '010',\n",
       " '0101',\n",
       " '0102',\n",
       " '0107y',\n",
       " '011s',\n",
       " '012',\n",
       " '01212011',\n",
       " '0128',\n",
       " '013',\n",
       " '0134',\n",
       " '0135y',\n",
       " '013c2812c9',\n",
       " '014',\n",
       " '015',\n",
       " '016',\n",
       " '016e5d9ff252f2444790d05269f4ed90',\n",
       " '016s',\n",
       " '017',\n",
       " '018',\n",
       " '019',\n",
       " '01915',\n",
       " '01am',\n",
       " '01pm',\n",
       " '01s',\n",
       " '01welcome',\n",
       " '02',\n",
       " '020',\n",
       " '0200gmt',\n",
       " '021',\n",
       " '022',\n",
       " '022vfnstnd',\n",
       " '023',\n",
       " '0235',\n",
       " '024',\n",
       " '025',\n",
       " '026',\n",
       " '027',\n",
       " '02714',\n",
       " '028',\n",
       " '02863',\n",
       " '02870',\n",
       " '029',\n",
       " '02pm',\n",
       " '02welcome',\n",
       " '03',\n",
       " '030',\n",
       " '031',\n",
       " '032',\n",
       " '0325',\n",
       " '033',\n",
       " '0331',\n",
       " '033s',\n",
       " '034',\n",
       " '035',\n",
       " '036',\n",
       " '03747',\n",
       " '038',\n",
       " '03898',\n",
       " '039',\n",
       " '03am',\n",
       " '03eb',\n",
       " '03pm',\n",
       " '04',\n",
       " '040',\n",
       " '0400',\n",
       " '041',\n",
       " '042',\n",
       " '043',\n",
       " '044',\n",
       " '0442',\n",
       " '045',\n",
       " '046',\n",
       " '047',\n",
       " '048',\n",
       " '049',\n",
       " '04am',\n",
       " '04pm',\n",
       " '05',\n",
       " '050',\n",
       " '0500',\n",
       " '0500america',\n",
       " '050100pupushing',\n",
       " '0509245d29',\n",
       " '050th',\n",
       " '051',\n",
       " '052',\n",
       " '053',\n",
       " '053112_johnson_',\n",
       " '053s',\n",
       " '054',\n",
       " '055',\n",
       " '056',\n",
       " '056μg',\n",
       " '057',\n",
       " '058',\n",
       " '059',\n",
       " '05917v1',\n",
       " '06',\n",
       " '060',\n",
       " '0600',\n",
       " '061',\n",
       " '062',\n",
       " '063',\n",
       " '06300',\n",
       " '064',\n",
       " '0640',\n",
       " '065',\n",
       " '066',\n",
       " '067',\n",
       " '068',\n",
       " '069',\n",
       " '06pm',\n",
       " '06quito2150',\n",
       " '06quito2991',\n",
       " '07',\n",
       " '070',\n",
       " '0700',\n",
       " '071',\n",
       " '072',\n",
       " '074',\n",
       " '075',\n",
       " '0750',\n",
       " '076',\n",
       " '077',\n",
       " '078',\n",
       " '079',\n",
       " '07dryempjx',\n",
       " '07pm',\n",
       " '08',\n",
       " '080',\n",
       " '0800',\n",
       " '0802141a',\n",
       " '080225_michelle_obama',\n",
       " '080808',\n",
       " '081',\n",
       " '082',\n",
       " '0820',\n",
       " '0823',\n",
       " '083',\n",
       " '08365472',\n",
       " '084',\n",
       " '085',\n",
       " '0851',\n",
       " '087',\n",
       " '088da582',\n",
       " '089',\n",
       " '0891',\n",
       " '0896n',\n",
       " '08hrs',\n",
       " '09',\n",
       " '090',\n",
       " '0900',\n",
       " '090aa',\n",
       " '091',\n",
       " '093',\n",
       " '094',\n",
       " '095',\n",
       " '096451',\n",
       " '097',\n",
       " '098',\n",
       " '098263',\n",
       " '099',\n",
       " '09braininjury',\n",
       " '09k1xgyjns',\n",
       " '09l',\n",
       " '09pm',\n",
       " '0_13ddwv4e',\n",
       " '0_65b67362bd',\n",
       " '0_7hhiwe8g',\n",
       " '0_a840ri7s',\n",
       " '0_jgdktlmn',\n",
       " '0_kgq98alm',\n",
       " '0_kvyhphja',\n",
       " '0_m0iupnij',\n",
       " '0_n5knwn3e',\n",
       " '0_qfc5sn0k',\n",
       " '0_yzlnvmv5',\n",
       " '0a_merrill',\n",
       " '0aza8',\n",
       " '0b2ffrdx7i',\n",
       " '0b6njlny5j',\n",
       " '0bho61brao',\n",
       " '0d',\n",
       " '0dpbdk6rjd',\n",
       " '0e6',\n",
       " '0eb2fe42e57d',\n",
       " '0fjjvowyhg8qtskiz',\n",
       " '0g9fwomabe',\n",
       " '0h4at2yetra17uxetni02ls2jeg0mty45jrcu7mrzsrpcbq464i',\n",
       " '0hcsx5z1sd',\n",
       " '0hour',\n",
       " '0hour1__',\n",
       " '0hq3vb2giv',\n",
       " '0in',\n",
       " '0j6tjyeysh',\n",
       " '0jhyjkdt0x',\n",
       " '0jsn6pjkan',\n",
       " '0k',\n",
       " '0kmvhb57rqi',\n",
       " '0lxfawgztu',\n",
       " '0m87gioy8c',\n",
       " '0mp7jvswy1',\n",
       " '0n',\n",
       " '0oeekvljlt',\n",
       " '0pbruepg1o',\n",
       " '0pen',\n",
       " '0pt',\n",
       " '0rcp7aydts',\n",
       " '0s',\n",
       " '0sdvzjgofq',\n",
       " '0shpgahsnw',\n",
       " '0t5',\n",
       " '0txrbwvobzz4fi5nksw6k5a6cxzbb3juxthmdiz93cby8gvrqiypzhajvjnt2',\n",
       " '0ut',\n",
       " '0womdwalmi',\n",
       " '0x',\n",
       " '0x10004ba0',\n",
       " '0x10012aa4',\n",
       " '0x402560',\n",
       " '0x40f598ac21c8ad899727137c4b94458d7aa8d8',\n",
       " '0ºc',\n",
       " '10',\n",
       " '100',\n",
       " '1000',\n",
       " '10000',\n",
       " '1000000',\n",
       " '10000s',\n",
       " '10009020',\n",
       " '1000mg',\n",
       " '1000s',\n",
       " '1000th',\n",
       " '1000x',\n",
       " '1001',\n",
       " '100115997',\n",
       " '10016',\n",
       " '1002',\n",
       " '1003',\n",
       " '1004',\n",
       " '1004381107',\n",
       " '100515p',\n",
       " '1007',\n",
       " '100809',\n",
       " '10086',\n",
       " '10087',\n",
       " '100bn',\n",
       " '100c',\n",
       " '100cr6',\n",
       " '100ft',\n",
       " '100g',\n",
       " '100k',\n",
       " '100kloc',\n",
       " '100km',\n",
       " '100lbs',\n",
       " '100m',\n",
       " '100percentfedup',\n",
       " '100s',\n",
       " '100th',\n",
       " '100x',\n",
       " '100yearsstrong',\n",
       " '101',\n",
       " '1010',\n",
       " '10102',\n",
       " '1010359',\n",
       " '1012',\n",
       " '101209',\n",
       " '1013',\n",
       " '1013th',\n",
       " '1014',\n",
       " '101400',\n",
       " '1016',\n",
       " '1017825_1280st',\n",
       " '1019',\n",
       " '101m',\n",
       " '101st',\n",
       " '102',\n",
       " '1024026',\n",
       " '1026',\n",
       " '102616',\n",
       " '10270',\n",
       " '102716',\n",
       " '10272016',\n",
       " '1027820',\n",
       " '102816',\n",
       " '102836002',\n",
       " '1029',\n",
       " '102d',\n",
       " '102nd',\n",
       " '103',\n",
       " '1030',\n",
       " '1030pm',\n",
       " '103129',\n",
       " '1032',\n",
       " '1033',\n",
       " '1036x1436',\n",
       " '1038',\n",
       " '103d',\n",
       " '103rd',\n",
       " '104',\n",
       " '1040',\n",
       " '1040s',\n",
       " '1040x',\n",
       " '1043',\n",
       " '104396002',\n",
       " '1046870142',\n",
       " '1046870197',\n",
       " '1047622',\n",
       " '104893',\n",
       " '10492',\n",
       " '104th',\n",
       " '105',\n",
       " '1050',\n",
       " '10500',\n",
       " '1052',\n",
       " '1054',\n",
       " '1055',\n",
       " '1058',\n",
       " '105th',\n",
       " '106',\n",
       " '1060',\n",
       " '106116001',\n",
       " '1064',\n",
       " '1065',\n",
       " '1066',\n",
       " '1067',\n",
       " '10690',\n",
       " '106th',\n",
       " '107',\n",
       " '1070',\n",
       " '1073',\n",
       " '1078',\n",
       " '1079',\n",
       " '107th',\n",
       " '108',\n",
       " '1080',\n",
       " '108000',\n",
       " '1080р',\n",
       " '1087',\n",
       " '1088',\n",
       " '108th',\n",
       " '109',\n",
       " '1091',\n",
       " '10925',\n",
       " '1093',\n",
       " '1095',\n",
       " '1099',\n",
       " '10990',\n",
       " '10995',\n",
       " '10997',\n",
       " '10998',\n",
       " '10999',\n",
       " '1099s',\n",
       " '109th',\n",
       " '109x109',\n",
       " '10_09_01_krongard',\n",
       " '10a',\n",
       " '10am',\n",
       " '10and',\n",
       " '10b',\n",
       " '10bn',\n",
       " '10depj4x9b',\n",
       " '10et',\n",
       " '10f',\n",
       " '10ft',\n",
       " '10g',\n",
       " '10gbqmvs0e',\n",
       " '10k',\n",
       " '10kb',\n",
       " '10km',\n",
       " '10m',\n",
       " '10m54s',\n",
       " '10mg',\n",
       " '10mm',\n",
       " '10ng',\n",
       " '10p',\n",
       " '10pm',\n",
       " '10pm31pmf',\n",
       " '10px',\n",
       " '10q',\n",
       " '10rounds',\n",
       " '10s',\n",
       " '10th',\n",
       " '10ths',\n",
       " '10x',\n",
       " '10y',\n",
       " '10yr',\n",
       " '10yrs',\n",
       " '10½',\n",
       " '10â',\n",
       " '11',\n",
       " '110',\n",
       " '1100',\n",
       " '11000',\n",
       " '11001',\n",
       " '11002',\n",
       " '11003',\n",
       " '11004',\n",
       " '11005',\n",
       " '1100s',\n",
       " '1101',\n",
       " '110136001',\n",
       " '1103',\n",
       " '11042',\n",
       " '11049',\n",
       " '1105',\n",
       " '11051',\n",
       " '1105759579497225',\n",
       " '11063387',\n",
       " '1107',\n",
       " '110904',\n",
       " '110913',\n",
       " '110k',\n",
       " '110th',\n",
       " '111',\n",
       " '1111',\n",
       " '11110',\n",
       " '1112',\n",
       " '11136',\n",
       " '1116',\n",
       " '1117',\n",
       " '111716',\n",
       " '111816',\n",
       " '111925',\n",
       " '111928',\n",
       " '111px',\n",
       " '111th',\n",
       " '112',\n",
       " '1121',\n",
       " '112116',\n",
       " '112145924',\n",
       " '112216',\n",
       " '1122930jg',\n",
       " '1123',\n",
       " '112316',\n",
       " '112516',\n",
       " '112th',\n",
       " '113',\n",
       " '11310',\n",
       " '11356',\n",
       " '1137',\n",
       " '1138',\n",
       " '113th',\n",
       " '114',\n",
       " '1140',\n",
       " '114001',\n",
       " '11436',\n",
       " '1146',\n",
       " '1149',\n",
       " '114th',\n",
       " '115',\n",
       " '1150',\n",
       " '11540',\n",
       " '11550',\n",
       " '1157',\n",
       " '115aug',\n",
       " '115th',\n",
       " '116',\n",
       " '1160',\n",
       " '11615',\n",
       " '11650',\n",
       " '1166',\n",
       " '1167',\n",
       " '1168',\n",
       " '1169',\n",
       " '116th',\n",
       " '116عاما',\n",
       " '117',\n",
       " '11702',\n",
       " '1172',\n",
       " '1176',\n",
       " '1177',\n",
       " '1178',\n",
       " '117th',\n",
       " '118',\n",
       " '1180',\n",
       " '1182',\n",
       " '1182f',\n",
       " '1183',\n",
       " '1185',\n",
       " '1186',\n",
       " '118k',\n",
       " '118th',\n",
       " '119',\n",
       " '11921',\n",
       " '1199',\n",
       " '119th',\n",
       " '11_5_2016',\n",
       " '11a',\n",
       " '11am',\n",
       " '11b',\n",
       " '11c',\n",
       " '11cm',\n",
       " '11e6',\n",
       " '11million',\n",
       " '11mn',\n",
       " '11pm',\n",
       " '11s',\n",
       " '11t',\n",
       " '11th',\n",
       " '11the',\n",
       " '11truly',\n",
       " '11truther',\n",
       " '11uip8ckfi',\n",
       " '11º',\n",
       " '11½',\n",
       " '12',\n",
       " '120',\n",
       " '1200',\n",
       " '12000',\n",
       " '1200euros',\n",
       " '1202',\n",
       " '1204840109',\n",
       " '1207',\n",
       " '120bin',\n",
       " '120bn',\n",
       " '120k',\n",
       " '120mm',\n",
       " '120mph',\n",
       " '120th',\n",
       " '121',\n",
       " '1210',\n",
       " '12105',\n",
       " '12113',\n",
       " '1212',\n",
       " '12148',\n",
       " '1215',\n",
       " '1219',\n",
       " '122',\n",
       " '1220',\n",
       " '12242321',\n",
       " '1225',\n",
       " '1226',\n",
       " '1227855',\n",
       " '1228',\n",
       " '122bn',\n",
       " '122nd',\n",
       " '123',\n",
       " '1230',\n",
       " '12323',\n",
       " '12333',\n",
       " '1234',\n",
       " '123421',\n",
       " '12345',\n",
       " '1234567',\n",
       " '1234yf',\n",
       " '1236',\n",
       " '124',\n",
       " '1240',\n",
       " '1242',\n",
       " '1244',\n",
       " '124th',\n",
       " '125',\n",
       " '1250',\n",
       " '1252',\n",
       " '1253',\n",
       " '1258',\n",
       " '125880',\n",
       " '1259',\n",
       " '125k',\n",
       " '125mm',\n",
       " '125th',\n",
       " '126',\n",
       " '1260',\n",
       " '1261',\n",
       " '12619print',\n",
       " '1262',\n",
       " '1265',\n",
       " '12656',\n",
       " '1266',\n",
       " '1269',\n",
       " '127',\n",
       " '12702162',\n",
       " '1274',\n",
       " '1279',\n",
       " '127million',\n",
       " '127th',\n",
       " '128',\n",
       " '1280',\n",
       " '1282',\n",
       " '1285',\n",
       " '1287',\n",
       " '1289',\n",
       " '128th',\n",
       " '128ths',\n",
       " '129',\n",
       " '1290',\n",
       " '1291',\n",
       " '12919',\n",
       " '1294',\n",
       " '1295',\n",
       " '1296',\n",
       " '12982104',\n",
       " '12am',\n",
       " '12anglaieb',\n",
       " '12b',\n",
       " '12ft',\n",
       " '12gb',\n",
       " '12h',\n",
       " '12hdlgeeua87t2ju8m4tbro247yj5u2tvp',\n",
       " '12k',\n",
       " '12m',\n",
       " '12mn',\n",
       " '12news',\n",
       " '12newsnow',\n",
       " '12pm',\n",
       " '12sso1zj2bbdguiraddmamlnets7oc1',\n",
       " '12t',\n",
       " '12th',\n",
       " '12the',\n",
       " '12until',\n",
       " '13',\n",
       " '130',\n",
       " '1300',\n",
       " '1301',\n",
       " '1303',\n",
       " '1305',\n",
       " '130500',\n",
       " '1306',\n",
       " '1308',\n",
       " '130j',\n",
       " '130s',\n",
       " '130th',\n",
       " '131',\n",
       " '1313',\n",
       " '1315',\n",
       " '1318',\n",
       " '1319',\n",
       " '131st',\n",
       " '132',\n",
       " '13224',\n",
       " '1323',\n",
       " '1324',\n",
       " '1325',\n",
       " '133',\n",
       " '1332',\n",
       " '13337',\n",
       " '1334',\n",
       " '1335',\n",
       " '133d',\n",
       " '134',\n",
       " '134386',\n",
       " '134742',\n",
       " '134744',\n",
       " '1348',\n",
       " '135',\n",
       " '1352',\n",
       " '13548506',\n",
       " '1355',\n",
       " '1357',\n",
       " '135ad',\n",
       " '135s',\n",
       " '135th',\n",
       " '136',\n",
       " '1360',\n",
       " '13603',\n",
       " '1363',\n",
       " '136316',\n",
       " '1364',\n",
       " '1365',\n",
       " '13679',\n",
       " '1368',\n",
       " '136th',\n",
       " '137',\n",
       " '1371',\n",
       " '1373',\n",
       " '13738',\n",
       " '1375',\n",
       " '13769',\n",
       " '13780',\n",
       " '137894',\n",
       " '137th',\n",
       " '138',\n",
       " '13805',\n",
       " '1381',\n",
       " '1384',\n",
       " '138th',\n",
       " '139',\n",
       " '1390',\n",
       " '13904',\n",
       " '1393',\n",
       " '1396',\n",
       " '13999',\n",
       " '139th',\n",
       " '13a',\n",
       " '13and',\n",
       " '13apr17',\n",
       " '13b',\n",
       " '13i',\n",
       " '13mins',\n",
       " '13onze15',\n",
       " '13pm',\n",
       " '13px',\n",
       " '13th',\n",
       " '13the',\n",
       " '13y',\n",
       " '13º',\n",
       " '13½',\n",
       " '14',\n",
       " '140',\n",
       " '1400',\n",
       " '1400s',\n",
       " '140228',\n",
       " '140230',\n",
       " '1406',\n",
       " '1409',\n",
       " '140th',\n",
       " '141',\n",
       " '1412',\n",
       " '14141',\n",
       " '1415',\n",
       " '141st',\n",
       " '142',\n",
       " '1425',\n",
       " '1425817301725',\n",
       " '1426',\n",
       " '142nd',\n",
       " '143',\n",
       " '1431',\n",
       " '1432',\n",
       " '1433',\n",
       " '14359',\n",
       " '1437',\n",
       " '1438',\n",
       " '1439',\n",
       " '143rd',\n",
       " '144',\n",
       " '1440',\n",
       " '1441',\n",
       " '14432034680',\n",
       " '14474',\n",
       " '14482302',\n",
       " '144px',\n",
       " '144s',\n",
       " '144th',\n",
       " '145',\n",
       " '1453',\n",
       " '1455',\n",
       " '1457219796322',\n",
       " '1459',\n",
       " '145th',\n",
       " '146',\n",
       " '1460',\n",
       " '1461',\n",
       " '1461783388',\n",
       " '1464',\n",
       " '1467',\n",
       " '146m',\n",
       " '146th',\n",
       " '147',\n",
       " '1471',\n",
       " '14728',\n",
       " '1474',\n",
       " '1475',\n",
       " '14762937',\n",
       " '1477',\n",
       " '14774',\n",
       " '1477493397',\n",
       " '1478',\n",
       " '1479',\n",
       " '148',\n",
       " '1480',\n",
       " '1482',\n",
       " '1483',\n",
       " '1485',\n",
       " '1486',\n",
       " '1487',\n",
       " '1488',\n",
       " '148th',\n",
       " '149',\n",
       " '1492',\n",
       " '1493',\n",
       " '1497',\n",
       " '1498',\n",
       " '1499',\n",
       " '149th',\n",
       " '14a',\n",
       " '14am',\n",
       " '14b',\n",
       " '14bn',\n",
       " '14c',\n",
       " '14hr',\n",
       " '14k',\n",
       " '14kwh',\n",
       " '14m',\n",
       " '14mins',\n",
       " '14mm',\n",
       " '14px',\n",
       " '14th',\n",
       " '14upon',\n",
       " '15',\n",
       " '150',\n",
       " '1500',\n",
       " '1500s',\n",
       " '1501',\n",
       " '1502',\n",
       " '1503',\n",
       " '1505',\n",
       " '1506',\n",
       " '1508',\n",
       " '1509',\n",
       " '15092',\n",
       " '150k',\n",
       " '150km',\n",
       " '150m',\n",
       " '150th',\n",
       " '151',\n",
       " '1510',\n",
       " '1511',\n",
       " '15117551',\n",
       " '1513',\n",
       " '1516',\n",
       " '1517',\n",
       " '1518',\n",
       " '1518393112',\n",
       " '1519',\n",
       " '151st',\n",
       " '152',\n",
       " '1520s',\n",
       " '1521',\n",
       " '1522',\n",
       " '1523',\n",
       " '1524',\n",
       " '1526',\n",
       " '1527',\n",
       " '152nd',\n",
       " '152º',\n",
       " '153',\n",
       " '1532',\n",
       " '1533',\n",
       " '1534',\n",
       " '1536',\n",
       " '1538',\n",
       " '153m',\n",
       " '153rd',\n",
       " '154',\n",
       " '1540',\n",
       " '1541',\n",
       " '1542',\n",
       " '1543',\n",
       " '1545',\n",
       " '1547',\n",
       " '15488',\n",
       " '1549',\n",
       " '154s',\n",
       " '154th',\n",
       " '155',\n",
       " '1550',\n",
       " '1552',\n",
       " '1554',\n",
       " '1555',\n",
       " '1557',\n",
       " '1558',\n",
       " '1559',\n",
       " '155e',\n",
       " '155mm',\n",
       " '155mph',\n",
       " '155th',\n",
       " '155ª',\n",
       " '156',\n",
       " '1560',\n",
       " '1562',\n",
       " '1563',\n",
       " '1564',\n",
       " '1565',\n",
       " '1566',\n",
       " '1569',\n",
       " '156th',\n",
       " '156º',\n",
       " '157',\n",
       " '1570',\n",
       " '1570s',\n",
       " '1571',\n",
       " '1572',\n",
       " '1575',\n",
       " '1576',\n",
       " '1578',\n",
       " '157e',\n",
       " '157th',\n",
       " '157ª',\n",
       " '158',\n",
       " '1581',\n",
       " '1582',\n",
       " '1584',\n",
       " '1585',\n",
       " '1586',\n",
       " '1588',\n",
       " '1589',\n",
       " '15893',\n",
       " '159',\n",
       " '159022597',\n",
       " '1591',\n",
       " '1596',\n",
       " '1597',\n",
       " '15975445007',\n",
       " '1598',\n",
       " '15am',\n",
       " '15and',\n",
       " '15b',\n",
       " '15cwt',\n",
       " '15e',\n",
       " '15ft',\n",
       " '15g',\n",
       " '15hrs',\n",
       " '15k',\n",
       " '15km',\n",
       " '15million',\n",
       " '15mm',\n",
       " '15mph',\n",
       " '15oz',\n",
       " '15pm',\n",
       " '15s',\n",
       " '15sa',\n",
       " '15sf',\n",
       " '15th',\n",
       " '15u71',\n",
       " '15yrs',\n",
       " '15yu71',\n",
       " '15ю71',\n",
       " '16',\n",
       " '160',\n",
       " '1600',\n",
       " '1600s',\n",
       " '1601',\n",
       " '1602',\n",
       " '1603',\n",
       " '1604',\n",
       " '1605',\n",
       " '1606',\n",
       " '1607',\n",
       " '160716',\n",
       " '1608',\n",
       " '1609',\n",
       " '160c',\n",
       " '160k',\n",
       " '160m2',\n",
       " '160s',\n",
       " '160th',\n",
       " '161',\n",
       " '1610',\n",
       " '161029',\n",
       " '1611',\n",
       " '1612',\n",
       " ...]"
      ]
     },
     "execution_count": 73,
     "metadata": {},
     "output_type": "execute_result"
    }
   ],
   "source": [
    "vec.get_feature_names()"
   ]
  },
  {
   "cell_type": "code",
   "execution_count": 70,
   "id": "2b77c53d",
   "metadata": {},
   "outputs": [
    {
     "data": {
      "text/plain": [
       "pandas.core.frame.DataFrame"
      ]
     },
     "execution_count": 70,
     "metadata": {},
     "output_type": "execute_result"
    }
   ],
   "source": [
    "x = v.fit_transform(df['sent'])"
   ]
  },
  {
   "cell_type": "code",
   "execution_count": 74,
   "id": "e3da8f96",
   "metadata": {},
   "outputs": [
    {
     "data": {
      "text/plain": [
       "array([[0.        , 0.        , 0.        , ..., 0.        , 0.        ,\n",
       "        0.        ],\n",
       "       [0.        , 0.        , 0.        , ..., 0.        , 0.        ,\n",
       "        0.        ],\n",
       "       [0.        , 0.        , 0.        , ..., 0.        , 0.        ,\n",
       "        0.        ],\n",
       "       ...,\n",
       "       [0.        , 0.01500552, 0.        , ..., 0.        , 0.        ,\n",
       "        0.        ],\n",
       "       [0.        , 0.        , 0.        , ..., 0.        , 0.        ,\n",
       "        0.        ],\n",
       "       [0.        , 0.        , 0.        , ..., 0.        , 0.        ,\n",
       "        0.        ]])"
      ]
     },
     "execution_count": 74,
     "metadata": {},
     "output_type": "execute_result"
    }
   ],
   "source": [
    "PPP.toarray()"
   ]
  },
  {
   "cell_type": "code",
   "execution_count": 76,
   "id": "25ed3b9a",
   "metadata": {},
   "outputs": [
    {
     "data": {
      "text/plain": [
       "Pipeline(steps=[('vect', CountVectorizer()), ('tfidf', TfidfTransformer()),\n",
       "                ('clf', PassiveAggressiveClassifier())])"
      ]
     },
     "execution_count": 76,
     "metadata": {},
     "output_type": "execute_result"
    }
   ],
   "source": [
    "model"
   ]
  },
  {
   "cell_type": "code",
   "execution_count": 77,
   "id": "a0fd52b6",
   "metadata": {},
   "outputs": [
    {
     "data": {
      "text/plain": [
       "array([1, 0, 1])"
      ]
     },
     "execution_count": 77,
     "metadata": {},
     "output_type": "execute_result"
    }
   ],
   "source": [
    "prediction = model.predict(onions)\n",
    "\n",
    "prediction\n",
    "\n"
   ]
  },
  {
   "cell_type": "code",
   "execution_count": 79,
   "id": "b8c85e38",
   "metadata": {},
   "outputs": [
    {
     "data": {
      "text/plain": [
       "Pipeline(steps=[('vect', CountVectorizer()), ('tfidf', TfidfTransformer()),\n",
       "                ('clf', LinearSVC(loss='hinge'))])"
      ]
     },
     "execution_count": 79,
     "metadata": {},
     "output_type": "execute_result"
    }
   ],
   "source": [
    "model"
   ]
  },
  {
   "cell_type": "code",
   "execution_count": 80,
   "id": "4df15986",
   "metadata": {},
   "outputs": [
    {
     "data": {
      "text/plain": [
       "array([1, 0, 1])"
      ]
     },
     "execution_count": 80,
     "metadata": {},
     "output_type": "execute_result"
    }
   ],
   "source": [
    "prediction = model.predict(onions)\n",
    "\n",
    "prediction"
   ]
  },
  {
   "cell_type": "code",
   "execution_count": 81,
   "id": "449c5c28",
   "metadata": {},
   "outputs": [],
   "source": [
    "news1 = '''WASHINGTON (AP) — U.S. officials are looking into reports that in the frantic evacuation of desperate Afghans from Kabul, older men were admitted together with young girls they claimed as “brides” or otherwise sexually abused.\n",
    "\n",
    "U.S. officials at intake centers in the United Arab Emirates and in Wisconsin have identified numerous incidents in which Afghan girls have been presented to authorities as the “wives” of much older men. While child marriage is not uncommon in Afghanistan, the U.S. has strict policies against human trafficking that include prosecutions for offenders and sanctions for countries that don’t crack down on it.\n",
    "\n",
    "One internal document seen by The Associated Press says the State Department has sought “urgent guidance” from other agencies after purported child brides were brought to Fort McCoy in Wisconsin. Another document, described to the AP by officials familiar with it, says Afghan girls at a transit site in Abu Dhabi have alleged they have been raped by older men they were forced to marry in order to escape Afghanistan.\n",
    "\n",
    "The State Department had no immediate comment on the documents or the veracity of the details in them. Officials say that they take all such allegations seriously but that many of them are anecdotal and difficult to prove, particularly amid the crush of Afghan evacuees at multiple locations in the Middle East, Europe and the United States.\n",
    "\n",
    "An Aug. 27 situation report sent to all U.S. embassies and consulates abroad as well as military command centers in Florida points to potential issues involving young girls and older men, some of whom claim to have more than one wife at Fort McCoy, a sprawling 60,000-acre (243-square-kilometer) Army base in Wisconsin. Relevant portions of the document, titled “Afghanistan Task Force SitRep No. 63,” were obtained by the AP.\n",
    "\n",
    "“Intake staff at Fort McCoy reported multiple cases of minor females who presented as ‘married’ to adult Afghan men, as well as polygamous families,” the document says. “Department of State has requested urgent guidance.”\n",
    "\n",
    "There was no immediate indication from the military or from the departments of homeland security and health and human services, which run the facility, that such guidance had been received.\n",
    "\n",
    "At the same time, U.S. officials in the United Arab Emirates have expressed similar concerns, sending a diplomatic cable to Washington warning that some young Afghan girls had been forced into marriages in order to escape Afghanistan after the Taliban takeover.\n",
    "\n",
    "Officials familiar with the cable say it describes allegations by several girls at the Humanitarian City in Abu Dhabi that they had been sexually assaulted by their “husbands” and seeks guidance on how to handle such cases. The officials spoke on condition of anonymity because they were not authorized to discuss internal communications.'''"
   ]
  },
  {
   "cell_type": "code",
   "execution_count": 82,
   "id": "8f34bb70",
   "metadata": {},
   "outputs": [
    {
     "data": {
      "text/plain": [
       "'WASHINGTON (AP) — U.S. officials are looking into reports that in the frantic evacuation of desperate Afghans from Kabul, older men were admitted together with young girls they claimed as “brides” or otherwise sexually abused.\\n\\nU.S. officials at intake centers in the United Arab Emirates and in Wisconsin have identified numerous incidents in which Afghan girls have been presented to authorities as the “wives” of much older men. While child marriage is not uncommon in Afghanistan, the U.S. has strict policies against human trafficking that include prosecutions for offenders and sanctions for countries that don’t crack down on it.\\n\\nOne internal document seen by The Associated Press says the State Department has sought “urgent guidance” from other agencies after purported child brides were brought to Fort McCoy in Wisconsin. Another document, described to the AP by officials familiar with it, says Afghan girls at a transit site in Abu Dhabi have alleged they have been raped by older men they were forced to marry in order to escape Afghanistan.\\n\\nThe State Department had no immediate comment on the documents or the veracity of the details in them. Officials say that they take all such allegations seriously but that many of them are anecdotal and difficult to prove, particularly amid the crush of Afghan evacuees at multiple locations in the Middle East, Europe and the United States.\\n\\nAn Aug. 27 situation report sent to all U.S. embassies and consulates abroad as well as military command centers in Florida points to potential issues involving young girls and older men, some of whom claim to have more than one wife at Fort McCoy, a sprawling 60,000-acre (243-square-kilometer) Army base in Wisconsin. Relevant portions of the document, titled “Afghanistan Task Force SitRep No. 63,” were obtained by the AP.\\n\\n“Intake staff at Fort McCoy reported multiple cases of minor females who presented as ‘married’ to adult Afghan men, as well as polygamous families,” the document says. “Department of State has requested urgent guidance.”\\n\\nThere was no immediate indication from the military or from the departments of homeland security and health and human services, which run the facility, that such guidance had been received.\\n\\nAt the same time, U.S. officials in the United Arab Emirates have expressed similar concerns, sending a diplomatic cable to Washington warning that some young Afghan girls had been forced into marriages in order to escape Afghanistan after the Taliban takeover.\\n\\nOfficials familiar with the cable say it describes allegations by several girls at the Humanitarian City in Abu Dhabi that they had been sexually assaulted by their “husbands” and seeks guidance on how to handle such cases. The officials spoke on condition of anonymity because they were not authorized to discuss internal communications.'"
      ]
     },
     "execution_count": 82,
     "metadata": {},
     "output_type": "execute_result"
    }
   ],
   "source": [
    "news1"
   ]
  },
  {
   "cell_type": "code",
   "execution_count": 83,
   "id": "a44903ec",
   "metadata": {},
   "outputs": [],
   "source": [
    "news2 = '''The road to a Texas law that bans most abortions in the state, sidestepping for now the Supreme Court’s landmark 1973 Roe v. Wade decision, began in a town called Waskom, population 1,600.\n",
    "\n",
    "The Supreme Court’s decision this past week not to interfere with the state’s strict abortion law, provoked outrage from liberals and cheers from many conservatives. President Joe Biden assailed it. But the decision also astonished many that Texas could essentially outmaneuver Supreme Court precedent on women’s constitutional right to abortion.\n",
    "\n",
    "Texas’ abortion law S.B. 8 follows a model first used in Waskom to ban abortion within its boundaries in 2019. The novel legal approach used by the city on Texas’ border with Louisiana is one envisioned by a former top lawyer for the state.\n",
    "\n",
    "Right to Life East Texas director Mark Lee Dixon, 36, a Southern Baptist minister, championed Waskom’s abortion ban. Through his state senator, Bryan Hughes, he met Jonathan F. Mitchell, a former top lawyer for the state of Texas. Mitchell became his attorney and advised him on crafting the ordinance, Dixon said in an interview.\n",
    "\n",
    "The ordinance shields Waskom from lawsuits by saying city officials can’t enforce the abortion ban. Instead, private citizens can sue anyone who performs an abortion in the city or assists someone in obtaining one. The law was largely symbolic, however, because the city did not have a clinic performing abortions.\n",
    "\n",
    "Nearly three dozen other cities in the state followed Waskom’s lead. Among them is Lubbock, where a Planned Parenthood clinic stopped performing abortions this year as a result.\n",
    "\n",
    "Mitchell has declined interviews, but Dixon called him a “brilliant guy” and said he was “extremely grateful” for his help. Hughes, who later became the author of the Texas law, echoed those sentiments. The two have known each other for years.\n",
    "\n",
    "Though Hughes would not assign credit for Texas’ approach to a single person, saying many lawyers and law professors advised on the legislation, ultimately S.B. 8 followed the Waskom model in terms of how the law is enforced.\n",
    "\n",
    "The law, signed by Republican Gov. Greg Abbott in May, prohibits abortions once medical professionals can detect cardiac activity, usually around six weeks and before many women know they’re pregnant. At least 12 other states have enacted bans early in pregnancy, but all have been blocked from going into effect.\n",
    "\n",
    "Unlike laws in other states, however, Texas’ law is unique in prohibiting state officials from enforcing the ban. Instead, it created a so-called private right of action allowing anyone — even someone outside Texas — to sue abortion providers and anyone else who helps someone get an abortion. Under the law, anyone who successfully sues another person would be entitled to at least $10,000.\n",
    "\n",
    "The private right-of-action wrinkle envisioned by Mitchell has so far kept challenges to the law from succeeding.\n",
    "\n",
    "Mitchell, 45, has spent the last 15 years moving back and forth between working in government and teaching at law schools such as Stanford and the University of Texas at Austin. A graduate of Wheaton College and the University of Chicago Law School, he was a law clerk to the late conservative Supreme Court Justice Antonin Scalia.\n",
    "\n",
    "And he went on to serve as Texas solicitor general from 2010 to 2015. He was a volunteer attorney on former President Donald Trump’s transition team and was unsuccessfully nominated by Trump to lead an agency tasked with making the government work better.\n",
    "\n",
    "University of Chicago law professor William Baude called him a “born law professor,” “creative and knowledgeable.”\n",
    "\n",
    "A law review article Mitchell wrote that was published in 2018 gave guidance to lawmakers worried about courts blocking their laws. He said lawmakers could protect their legislation by including a private right of action. He said the strategy could apply to a wide range of laws such as campaign finance, gun control and abortion.\n",
    "\n",
    "“It is practically impossible to bring a pre-enforcement challenge to statutes that establish private rights of action, because the litigants who will enforce the statute are hard to identify until they actually bring suit,” he wrote in one footnote.\n",
    "\n",
    "In the case of Texas’ law, things have played out as he predicted.\n",
    "\n",
    "Still, even some conservatives have questioned Texas’ approach. Dissenting from the high court’s decision not to step in this past week, Chief Justice John Roberts called Texas’ law “not only unusual, but unprecedented.”\n",
    "\n",
    "“The legislature has imposed a prohibition on abortions after roughly six weeks, and then essentially delegated enforcement of that prohibition to the populace at large,” he wrote. “The desired consequence appears to be to insulate the State from responsibility for implementing and enforcing the regulatory regime.”\n",
    "\n",
    "Liberal Justice Sonia Sotomayor was blunt. “It cannot be the case that a State can evade federal judicial scrutiny by outsourcing the enforcement of unconstitutional laws to its citizenry,” she wrote.\n",
    "\n",
    "The high court’s action, however, is unlikely to be the final word on the law. More legal challenges now that the law is in force are likely.\n",
    "\n",
    "GOP lawmakers and abortion opponents in at least five other Republican-controlled states — Arkansas, Florida, Indiana, North Dakota and South Dakota – said they are considering pushing bills similar to the Texas law and its citizen-enforcement provision.\n",
    "\n",
    "'''"
   ]
  },
  {
   "cell_type": "code",
   "execution_count": 84,
   "id": "2e77172d",
   "metadata": {},
   "outputs": [
    {
     "data": {
      "text/plain": [
       "'The road to a Texas law that bans most abortions in the state, sidestepping for now the Supreme Court’s landmark 1973 Roe v. Wade decision, began in a town called Waskom, population 1,600.\\n\\nThe Supreme Court’s decision this past week not to interfere with the state’s strict abortion law, provoked outrage from liberals and cheers from many conservatives. President Joe Biden assailed it. But the decision also astonished many that Texas could essentially outmaneuver Supreme Court precedent on women’s constitutional right to abortion.\\n\\nTexas’ abortion law S.B. 8 follows a model first used in Waskom to ban abortion within its boundaries in 2019. The novel legal approach used by the city on Texas’ border with Louisiana is one envisioned by a former top lawyer for the state.\\n\\nRight to Life East Texas director Mark Lee Dixon, 36, a Southern Baptist minister, championed Waskom’s abortion ban. Through his state senator, Bryan Hughes, he met Jonathan F. Mitchell, a former top lawyer for the state of Texas. Mitchell became his attorney and advised him on crafting the ordinance, Dixon said in an interview.\\n\\nThe ordinance shields Waskom from lawsuits by saying city officials can’t enforce the abortion ban. Instead, private citizens can sue anyone who performs an abortion in the city or assists someone in obtaining one. The law was largely symbolic, however, because the city did not have a clinic performing abortions.\\n\\nNearly three dozen other cities in the state followed Waskom’s lead. Among them is Lubbock, where a Planned Parenthood clinic stopped performing abortions this year as a result.\\n\\nMitchell has declined interviews, but Dixon called him a “brilliant guy” and said he was “extremely grateful” for his help. Hughes, who later became the author of the Texas law, echoed those sentiments. The two have known each other for years.\\n\\nThough Hughes would not assign credit for Texas’ approach to a single person, saying many lawyers and law professors advised on the legislation, ultimately S.B. 8 followed the Waskom model in terms of how the law is enforced.\\n\\nThe law, signed by Republican Gov. Greg Abbott in May, prohibits abortions once medical professionals can detect cardiac activity, usually around six weeks and before many women know they’re pregnant. At least 12 other states have enacted bans early in pregnancy, but all have been blocked from going into effect.\\n\\nUnlike laws in other states, however, Texas’ law is unique in prohibiting state officials from enforcing the ban. Instead, it created a so-called private right of action allowing anyone — even someone outside Texas — to sue abortion providers and anyone else who helps someone get an abortion. Under the law, anyone who successfully sues another person would be entitled to at least $10,000.\\n\\nThe private right-of-action wrinkle envisioned by Mitchell has so far kept challenges to the law from succeeding.\\n\\nMitchell, 45, has spent the last 15 years moving back and forth between working in government and teaching at law schools such as Stanford and the University of Texas at Austin. A graduate of Wheaton College and the University of Chicago Law School, he was a law clerk to the late conservative Supreme Court Justice Antonin Scalia.\\n\\nAnd he went on to serve as Texas solicitor general from 2010 to 2015. He was a volunteer attorney on former President Donald Trump’s transition team and was unsuccessfully nominated by Trump to lead an agency tasked with making the government work better.\\n\\nUniversity of Chicago law professor William Baude called him a “born law professor,” “creative and knowledgeable.”\\n\\nA law review article Mitchell wrote that was published in 2018 gave guidance to lawmakers worried about courts blocking their laws. He said lawmakers could protect their legislation by including a private right of action. He said the strategy could apply to a wide range of laws such as campaign finance, gun control and abortion.\\n\\n“It is practically impossible to bring a pre-enforcement challenge to statutes that establish private rights of action, because the litigants who will enforce the statute are hard to identify until they actually bring suit,” he wrote in one footnote.\\n\\nIn the case of Texas’ law, things have played out as he predicted.\\n\\nStill, even some conservatives have questioned Texas’ approach. Dissenting from the high court’s decision not to step in this past week, Chief Justice John Roberts called Texas’ law “not only unusual, but unprecedented.”\\n\\n“The legislature has imposed a prohibition on abortions after roughly six weeks, and then essentially delegated enforcement of that prohibition to the populace at large,” he wrote. “The desired consequence appears to be to insulate the State from responsibility for implementing and enforcing the regulatory regime.”\\n\\nLiberal Justice Sonia Sotomayor was blunt. “It cannot be the case that a State can evade federal judicial scrutiny by outsourcing the enforcement of unconstitutional laws to its citizenry,” she wrote.\\n\\nThe high court’s action, however, is unlikely to be the final word on the law. More legal challenges now that the law is in force are likely.\\n\\nGOP lawmakers and abortion opponents in at least five other Republican-controlled states — Arkansas, Florida, Indiana, North Dakota and South Dakota – said they are considering pushing bills similar to the Texas law and its citizen-enforcement provision.\\n\\n'"
      ]
     },
     "execution_count": 84,
     "metadata": {},
     "output_type": "execute_result"
    }
   ],
   "source": [
    "news2"
   ]
  },
  {
   "cell_type": "code",
   "execution_count": 88,
   "id": "7e6e56b0",
   "metadata": {},
   "outputs": [],
   "source": [
    "news3= '''WASHINGTON (AP) — President Joe Biden on Friday directed the declassification of certain documents related to the Sept. 11, 2001, terrorist attacks, a supportive gesture to victims’ families who have long sought the records in hopes of implicating the Saudi government.\n",
    "\n",
    "The order, coming little more than a week before the 20th anniversary of the attacks, is a significant moment in a yearslong tussle between the government and the families over what classified information about the run-up to the attacks could be made public. That conflict was on display last month when many relatives, survivors and first responders came out against Biden’s participation in 9/11 memorial events if the documents remained classified.\n",
    "\n",
    "Biden said Friday that he was making good on a campaign commitment by ordering the declassification review and pledged that his administration “will continue to engage respectfully with members of this community.”\n",
    "\n",
    "“The significant events in question occurred two decades ago or longer, and they concern a tragic moment that continues to resonate in American history and in the lives of so many Americans,” the executive order states. “It is therefore critical to ensure that the United States Government maximizes transparency, relying on classification only when narrowly tailored and necessary.”\n",
    "\n",
    "The order directs the Justice Department and other executive branch agencies to begin a declassification review, and requires that declassified documents be released over the next six months.\n",
    "\n",
    "Brett Eagleson, whose father, Bruce, was among the World Trade Center victims and who is an advocate for other victims’ relatives, commended the action as a “critical first step.” He said the families would be closely watching the process to make sure that the Justice Department follows through and acts “in good faith.”\n",
    "\n",
    "“The first test will be on 9/11, and the world will be watching. We look forward to thanking President Biden in person next week as he joins us at Ground Zero to honor those who died or were injured 20 years ago,” Eagleson said.\n",
    "\n",
    "Still, the practical impact of the executive order and any new documents it might yield was not immediately clear. Public documents released in the last two decades, including by the 9/11 Commission, have detailed numerous Saudi entanglements but have not proved government complicity.\n",
    "\n",
    "A long-running lawsuit in federal court in New York aims to hold the Saudi government accountable and alleges that Saudi officials provided significant support to some of the hijackers before the attacks. The lawsuit took a major step forward this year with the questioning under oath of former Saudi officials, and family members have long regarded the disclosure of declassified documents as an important step in making their case.\n",
    "\n",
    "The Saudi government has denied any connection to the attacks.\n",
    "\n",
    "Fifteen of the hijackers were Saudi, as was Osama bin Laden, whose al-Qaida network was behind the attacks. Particular scrutiny has centered on the support offered to the first two hijackers to arrive in the U.S., Nawaf al-Hazmi and Khalid al-Mihdhar, including from a Saudi national with ties to the Saudi government who helped the men find and lease an apartment in San Diego and who had earlier attracted FBI scrutiny.\n",
    "\n",
    "Though many documents examining potential Saudi ties have been released, U.S. officials have long regarded other records as too sensitive for disclosure. On Thursday, victims’ families and survivors urged the Justice Department’s inspector general to investigate the FBI’s apparent inability to locate key pieces of evidence they’ve been seeking.\n",
    "\n",
    "The Justice Department revealed last month that the FBI had recently completed an investigation examining certain 9/11 hijackers and potential co-conspirators, and that it was working toward providing more information.\n",
    "\n",
    "Under the terms of the executive order, the FBI must complete by Sept. 11 its declassification review of documents from that probe, which it has referred to as the “Subfile Investigation.” Additional documents, including any phone and bank records and reports with investigative findings, are to be reviewed with an eye for disclosure over the course of the next six months.\n",
    "\n",
    "'''"
   ]
  },
  {
   "cell_type": "code",
   "execution_count": 92,
   "id": "5e87b65f",
   "metadata": {},
   "outputs": [],
   "source": [
    "news4 = '''RICHMOND, Va. (AP) — Almost instantly after most abortions were banned in Texas, Democrats were decrying the new law as unconstitutional, an assault on women’s health that must be challenged. But the reaction from many Republicans on the other side hasn’t been nearly as emphatic.\n",
    "\n",
    "Though some in the GOP are celebrating the moment as a long-sought win for the anti-abortion rights movement, others are minimizing the meaning of the Supreme Court’s Wednesday midnight decision that allowed the bill to take effect. A few are even slamming the court and the law.\n",
    "\n",
    "Or dodging.\n",
    "\n",
    "“I’m pro-life,” said Republican Glenn Youngkin, a GOP candidate for governor in increasingly Democratic Virginia, where the only open governor’s race in the nation is coming up in November. When pressed on the Texas law by a reporter, he quickly noted that he supports exceptions in cases of rape, incest and where the mother’s life is in danger — exceptions notably not included in the new law.\n",
    "\n",
    "The mixed reactions illustrate the political risks for the GOP as their anti-abortion allies begin actually achieving goals they have long sought. Americans are hardly of one mind on the issue, and loudly defending the nation’s toughest curbs — in Virginia or political battlegrounds like Georgia, Arizona or Florida — in next year’s midterm elections won’t be hazard-free.\n",
    "\n",
    "Youtube video thumbnail\n",
    "“It is going to be a very motivating issue for women who haven’t typically been single-issue pro-choice voters,” said Republican pollster Christine Matthews. That includes suburban women and independents in swing House districts and competitive governor’s races who in past elections didn’t believe Roe v. Wade was truly under threat, Matthews said.\n",
    "\n",
    "The new Texas law represents the most significant threat yet to the Supreme Court’s 1973 decision establishing the right to an abortion. Surveys suggest that ruling still has broad support — 69% of voters in last year’s elections said Roe v. Wade should be left as is, compared with just 29% saying it should be overturned, according to AP VoteCast, a poll of the electorate.\n",
    "\n",
    "Democrats and abortion-rights advocates, who have sometimes been frustrated by voters taking access for granted, vowed Thursday to use the moment to wake people up. They promised to go after not just GOP candidates and office holders who support the Texas measure and others like it but also corporations that support them. Some reignited calls to end Senate filibuster rules to give abortion access a better chance at passage in Congress.\n",
    "\n",
    "Speaker Nancy Pelosi said the House would soon vote on codifying Roe v. Wade into law, though chances in the Senate are all but nil.\n",
    "\n",
    "Virginia’s Democratic gubernatorial nominee Terry McAuliffe already has been making abortion a key issue. He points to secretly recorded video in which Youngkin tells a woman posing as an abortion opponent that he supports defunding Planned Parenthood but can’t talk about it publicly because “as a campaign topic, sadly, that in fact won’t win my independent votes that I have to get.”\n",
    "\n",
    "On Thursday McAuliffe warned that if Youngkin wins and Republicans take over the state House ”there’s a good chance that we could see Virginia go the way of Texas.”\n",
    "\n",
    "The Texas law prohibits abortions once medical professionals can detect cardiac activity, usually around six weeks and often before women know they’re pregnant. Rather than be enforced by government authorities, the law gives citizens the right to file civil suits and collect damages against anyone aiding an abortion.\n",
    "\n",
    "South Dakota Gov. Kristi Noem, a Republican, tweeted that she wanted her office to compare her state’s laws with the new Texas one “to make sure we have the strongest pro-life laws on the books in SD.”\n",
    "\n",
    "But such views were hardly universal in her party.\n",
    "\n",
    "In South Carolina, Republican Gov. Henry McMaster this year signed a restriction requiring doctors to perform ultrasounds checking for cardiac activity and prohibiting abortion if it’s found, unless the pregnancy was caused by rape or incest, or the mother’s life was in danger.\n",
    "\n",
    "Asked Thursday if he would support a Texas-style bill, such as one without exceptions for rape and incest, McMaster said he viewed South Carolina’s law as “superior.”\n",
    "\n",
    "Republican Sen. Susan Collins of Maine called the Texas law “extreme and harmful.”\n",
    "\n",
    "Senate Minority Leader Mitch McConnell downplayed the Supreme Court’s action as “a highly technical decision.”\n",
    "\n",
    "Indeed, the conservative-majority court did not rule on the constitutionality of the Texas law. The justices instead refused to block its implementation and issued a brief statement saying the decision “in no way limits other procedurally proper challenges to the Texas law, including in Texas state courts.”\n",
    "\n",
    "The justices’ role ensures that the court’s makeup will be part of the revived political debate. Liberal lawmakers backed by advocates who helped power President Joe Biden to office want to expand the number of justices to rebalance power.\n",
    "\n",
    "“Democrats can either abolish the filibuster and expand the court, or do nothing as millions of people’s bodies, rights and lives are sacrificed for far-right minority rule,” Rep. Alexandria Ocasio-Cortez, D-N.Y., wrote on Twitter.\n",
    "\n",
    "While a majority of American support Roe v. Wade, abortion opponents have typically been more likely to let the issue determine their votes. According to AP VoteCast, just 3% of voters in the 2020 presidential election called abortion the single most important issue facing the country, but they leaned resoundingly toward Republican President Donald Trump, 89% to just 9% for Democrat Biden. In a separate question, 18% of voters called Supreme Court nominations “the single most important factor” in their presidential votes. Those voters leaned toward Biden by a relatively narrow margin, 53% to 46%.\n",
    "\n",
    "A June poll by The Associated Press-NORC Center for Public Affairs Research found that most Americans think abortion should be limited after the first trimester, but about 6 in 10 said it should usually be legal in the first three months of pregnancy. More than 8 in 10 said it should be legal in cases of rape or incest.\n",
    "\n",
    "The poll found that younger adults are especially likely to support legal abortion. Sixty-three percent of those under age 45 said abortion should usually be legal, compared with 51% of those 45 and older. Still, even young adults support some limits on abortion based on the time of pregnancy, with majorities across all age groups saying most abortions should be illegal by the third trimester.\n",
    "\n",
    "'''"
   ]
  },
  {
   "cell_type": "code",
   "execution_count": 93,
   "id": "a6c2e969",
   "metadata": {},
   "outputs": [],
   "source": [
    "news = pd.Series(data=[news1,news2, news3, news4])"
   ]
  },
  {
   "cell_type": "code",
   "execution_count": 94,
   "id": "705a4b1d",
   "metadata": {},
   "outputs": [
    {
     "data": {
      "text/plain": [
       "0    WASHINGTON (AP) — U.S. officials are looking i...\n",
       "1    The road to a Texas law that bans most abortio...\n",
       "2    WASHINGTON (AP) — President Joe Biden on Frida...\n",
       "3    RICHMOND, Va. (AP) — Almost instantly after mo...\n",
       "dtype: object"
      ]
     },
     "execution_count": 94,
     "metadata": {},
     "output_type": "execute_result"
    }
   ],
   "source": [
    "news"
   ]
  },
  {
   "cell_type": "code",
   "execution_count": 95,
   "id": "9847b44f",
   "metadata": {},
   "outputs": [
    {
     "data": {
      "text/plain": [
       "array([0, 0, 0, 0])"
      ]
     },
     "execution_count": 95,
     "metadata": {},
     "output_type": "execute_result"
    }
   ],
   "source": [
    "prediction = model.predict(news)\n",
    "\n",
    "prediction"
   ]
  },
  {
   "cell_type": "code",
   "execution_count": 96,
   "id": "3ce849a2",
   "metadata": {},
   "outputs": [
    {
     "data": {
      "text/html": [
       "<div>\n",
       "<style scoped>\n",
       "    .dataframe tbody tr th:only-of-type {\n",
       "        vertical-align: middle;\n",
       "    }\n",
       "\n",
       "    .dataframe tbody tr th {\n",
       "        vertical-align: top;\n",
       "    }\n",
       "\n",
       "    .dataframe thead th {\n",
       "        text-align: right;\n",
       "    }\n",
       "</style>\n",
       "<table border=\"1\" class=\"dataframe\">\n",
       "  <thead>\n",
       "    <tr style=\"text-align: right;\">\n",
       "      <th></th>\n",
       "      <th>text</th>\n",
       "      <th>label</th>\n",
       "    </tr>\n",
       "  </thead>\n",
       "  <tbody>\n",
       "    <tr>\n",
       "      <th>0</th>\n",
       "      <td>House Dem Aide: We Didn’t Even See Comey’s Let...</td>\n",
       "      <td>1</td>\n",
       "    </tr>\n",
       "    <tr>\n",
       "      <th>1</th>\n",
       "      <td>Ever get the feeling your life circles the rou...</td>\n",
       "      <td>0</td>\n",
       "    </tr>\n",
       "    <tr>\n",
       "      <th>2</th>\n",
       "      <td>Why the Truth Might Get You Fired October 29, ...</td>\n",
       "      <td>1</td>\n",
       "    </tr>\n",
       "    <tr>\n",
       "      <th>3</th>\n",
       "      <td>Videos 15 Civilians Killed In Single US Airstr...</td>\n",
       "      <td>1</td>\n",
       "    </tr>\n",
       "    <tr>\n",
       "      <th>4</th>\n",
       "      <td>Print \\nAn Iranian woman has been sentenced to...</td>\n",
       "      <td>1</td>\n",
       "    </tr>\n",
       "    <tr>\n",
       "      <th>...</th>\n",
       "      <td>...</td>\n",
       "      <td>...</td>\n",
       "    </tr>\n",
       "    <tr>\n",
       "      <th>25949</th>\n",
       "      <td>Of all the dysfunctions that plague the world’...</td>\n",
       "      <td>0</td>\n",
       "    </tr>\n",
       "    <tr>\n",
       "      <th>25950</th>\n",
       "      <td>WASHINGTON  —   Gov. John Kasich of Ohio on Tu...</td>\n",
       "      <td>1</td>\n",
       "    </tr>\n",
       "    <tr>\n",
       "      <th>25951</th>\n",
       "      <td>Good morning. (Want to get California Today by...</td>\n",
       "      <td>0</td>\n",
       "    </tr>\n",
       "    <tr>\n",
       "      <th>25952</th>\n",
       "      <td>« Previous - Next » 300 US Marines To Be Deplo...</td>\n",
       "      <td>1</td>\n",
       "    </tr>\n",
       "    <tr>\n",
       "      <th>25953</th>\n",
       "      <td>Perhaps you’ve seen the new TV series whose pi...</td>\n",
       "      <td>0</td>\n",
       "    </tr>\n",
       "  </tbody>\n",
       "</table>\n",
       "<p>25954 rows × 2 columns</p>\n",
       "</div>"
      ],
      "text/plain": [
       "                                                    text  label\n",
       "0      House Dem Aide: We Didn’t Even See Comey’s Let...      1\n",
       "1      Ever get the feeling your life circles the rou...      0\n",
       "2      Why the Truth Might Get You Fired October 29, ...      1\n",
       "3      Videos 15 Civilians Killed In Single US Airstr...      1\n",
       "4      Print \\nAn Iranian woman has been sentenced to...      1\n",
       "...                                                  ...    ...\n",
       "25949  Of all the dysfunctions that plague the world’...      0\n",
       "25950  WASHINGTON  —   Gov. John Kasich of Ohio on Tu...      1\n",
       "25951  Good morning. (Want to get California Today by...      0\n",
       "25952  « Previous - Next » 300 US Marines To Be Deplo...      1\n",
       "25953  Perhaps you’ve seen the new TV series whose pi...      0\n",
       "\n",
       "[25954 rows x 2 columns]"
      ]
     },
     "execution_count": 96,
     "metadata": {},
     "output_type": "execute_result"
    }
   ],
   "source": [
    "articles"
   ]
  },
  {
   "cell_type": "code",
   "execution_count": null,
   "id": "ac4ab42e",
   "metadata": {},
   "outputs": [],
   "source": []
  }
 ],
 "metadata": {
  "kernelspec": {
   "display_name": "Python 3 (ipykernel)",
   "language": "python",
   "name": "python3"
  },
  "language_info": {
   "codemirror_mode": {
    "name": "ipython",
    "version": 3
   },
   "file_extension": ".py",
   "mimetype": "text/x-python",
   "name": "python",
   "nbconvert_exporter": "python",
   "pygments_lexer": "ipython3",
   "version": "3.7.7"
  }
 },
 "nbformat": 4,
 "nbformat_minor": 5
}
